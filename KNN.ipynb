{
 "cells": [
  {
   "cell_type": "code",
   "execution_count": 2,
   "metadata": {},
   "outputs": [
    {
     "name": "stdout",
     "output_type": "stream",
     "text": [
      "Requirement already up-to-date: textblob in /Users/ow/opt/anaconda3/lib/python3.7/site-packages (0.15.3)\n",
      "Requirement already satisfied, skipping upgrade: nltk>=3.1 in /Users/ow/opt/anaconda3/lib/python3.7/site-packages (from textblob) (3.4.5)\n",
      "Requirement already satisfied, skipping upgrade: six in /Users/ow/opt/anaconda3/lib/python3.7/site-packages (from nltk>=3.1->textblob) (1.12.0)\n",
      "Note: you may need to restart the kernel to use updated packages.\n"
     ]
    }
   ],
   "source": [
    "pip install -U textblob"
   ]
  },
  {
   "cell_type": "code",
   "execution_count": 1,
   "metadata": {},
   "outputs": [],
   "source": [
    "import re\n",
    "import collections\n",
    "from collections import Counter\n",
    "import pandas as pd\n",
    "from sqlalchemy import create_engine\n",
    "import json\n",
    "import psycopg2\n",
    "from textblob import TextBlob\n",
    "import matplotlib.pyplot as plt\n",
    "from sklearn.neighbors import KNeighborsClassifier\n",
    "from sklearn.model_selection import train_test_split\n",
    "import os\n",
    "from sklearn.metrics import accuracy_score"
   ]
  },
  {
   "cell_type": "code",
   "execution_count": 2,
   "metadata": {},
   "outputs": [],
   "source": [
    "connection_string = psycopg2.connect(host=\"mypostgresdb.cnm9emj4w74o.us-east-2.rds.amazonaws.com\", port = 5432, database=\"project3\", user=\"rootlh\", password=\"password\")"
   ]
  },
  {
   "cell_type": "code",
   "execution_count": 3,
   "metadata": {},
   "outputs": [
    {
     "data": {
      "text/html": [
       "<div>\n",
       "<style scoped>\n",
       "    .dataframe tbody tr th:only-of-type {\n",
       "        vertical-align: middle;\n",
       "    }\n",
       "\n",
       "    .dataframe tbody tr th {\n",
       "        vertical-align: top;\n",
       "    }\n",
       "\n",
       "    .dataframe thead th {\n",
       "        text-align: right;\n",
       "    }\n",
       "</style>\n",
       "<table border=\"1\" class=\"dataframe\">\n",
       "  <thead>\n",
       "    <tr style=\"text-align: right;\">\n",
       "      <th></th>\n",
       "      <th>type</th>\n",
       "      <th>posts</th>\n",
       "    </tr>\n",
       "  </thead>\n",
       "  <tbody>\n",
       "    <tr>\n",
       "      <td>0</td>\n",
       "      <td>INTJ</td>\n",
       "      <td>'https://www.youtube.com/watch?v=8IEQpfA528M  ...</td>\n",
       "    </tr>\n",
       "    <tr>\n",
       "      <td>1</td>\n",
       "      <td>INFP</td>\n",
       "      <td>'It's one of my daily 'music doodles', one min...</td>\n",
       "    </tr>\n",
       "    <tr>\n",
       "      <td>2</td>\n",
       "      <td>INFP</td>\n",
       "      <td>'NO. But I have dyscalculia. :X|||I've learned...</td>\n",
       "    </tr>\n",
       "    <tr>\n",
       "      <td>3</td>\n",
       "      <td>ISTP</td>\n",
       "      <td>'288970 It's been a while, guys. Also I bleach...</td>\n",
       "    </tr>\n",
       "    <tr>\n",
       "      <td>4</td>\n",
       "      <td>INFP</td>\n",
       "      <td>'29 and still have it. Never had a girlfriend....</td>\n",
       "    </tr>\n",
       "  </tbody>\n",
       "</table>\n",
       "</div>"
      ],
      "text/plain": [
       "   type                                              posts\n",
       "0  INTJ  'https://www.youtube.com/watch?v=8IEQpfA528M  ...\n",
       "1  INFP  'It's one of my daily 'music doodles', one min...\n",
       "2  INFP  'NO. But I have dyscalculia. :X|||I've learned...\n",
       "3  ISTP  '288970 It's been a while, guys. Also I bleach...\n",
       "4  INFP  '29 and still have it. Never had a girlfriend...."
      ]
     },
     "execution_count": 3,
     "metadata": {},
     "output_type": "execute_result"
    }
   ],
   "source": [
    "df = pd.read_sql_query('select * from post_info', con=connection_string)\n",
    "df.head()"
   ]
  },
  {
   "cell_type": "code",
   "execution_count": 4,
   "metadata": {},
   "outputs": [
    {
     "name": "stdout",
     "output_type": "stream",
     "text": [
      "   type                                              posts  words_per_comment  \\\n",
      "0  INTJ  'https://www.youtube.com/watch?v=8IEQpfA528M  ...               1143   \n",
      "1  INFP  'It's one of my daily 'music doodles', one min...                873   \n",
      "2  INFP  'NO. But I have dyscalculia. :X|||I've learned...                665   \n",
      "3  ISTP  '288970 It's been a while, guys. Also I bleach...                545   \n",
      "4  INFP  '29 and still have it. Never had a girlfriend....               1399   \n",
      "5  INFJ  'It gets to be pretty obvious the lifestyle di...               1049   \n",
      "6  INTP  'I used to find this difficult until I realize...               1190   \n",
      "7  INTJ  '1. ENTJs - Without fail my favorite people.  ...               1694   \n",
      "8  ENFP  'Can I just say I'm so glad and thankful that ...               1314   \n",
      "9  ESFP  'No I'm not, you go home!|||Farnsworth: ENTP F...               1090   \n",
      "\n",
      "   question_per_comment  excl_per_comment  upper_case  polarity  subjectivity  \\\n",
      "0                    34                 0         182  0.101422      0.546946   \n",
      "1                    15                 6         234  0.067913      0.542686   \n",
      "2                     6                 3         184  0.128141      0.579492   \n",
      "3                     8                13         125  0.052717      0.557769   \n",
      "4                     8                 3         221  0.046999      0.505684   \n",
      "5                     9                 1         272  0.161881      0.531768   \n",
      "6                    40                20         282  0.120509      0.571574   \n",
      "7                     2                 0         355  0.110448      0.474402   \n",
      "8                    38                10         299  0.098544      0.615180   \n",
      "9                     9                 1         377  0.101305      0.520738   \n",
      "\n",
      "   ellipsis_per_comment  \n",
      "0                    30  \n",
      "1                    17  \n",
      "2                    16  \n",
      "3                     5  \n",
      "4                    40  \n",
      "5                    19  \n",
      "6                    49  \n",
      "7                    46  \n",
      "8                    32  \n",
      "9                    21  \n"
     ]
    }
   ],
   "source": [
    "df['words_per_comment'] = df['posts'].apply(lambda x: len(x.split()))\n",
    "df['question_per_comment'] = df['posts'].apply(lambda x: x.count('?'))\n",
    "df['excl_per_comment'] = df['posts'].apply(lambda x: x.count('!'))\n",
    "df['upper_case'] = df['posts'].str.findall(r'[A-Z]').str.len()\n",
    "# df['adj'] = df['posts'].str.findall(r'[A-Z]').str.len()\n",
    "df[['polarity', 'subjectivity']] = df['posts'].apply(lambda Text: pd.Series(TextBlob(Text).sentiment))\n",
    "# df['emojis'] = df['posts'].str.findall(u'[\\U0001f300-\\U0001f650]|[\\u2000-\\u3000]').str.len()\n",
    "df['ellipsis_per_comment'] = df['posts'].apply(lambda x: x.count('...'))\n",
    "\n",
    "print(df.head(10))"
   ]
  },
  {
   "cell_type": "code",
   "execution_count": 5,
   "metadata": {},
   "outputs": [
    {
     "data": {
      "text/html": [
       "<div>\n",
       "<style scoped>\n",
       "    .dataframe tbody tr th:only-of-type {\n",
       "        vertical-align: middle;\n",
       "    }\n",
       "\n",
       "    .dataframe tbody tr th {\n",
       "        vertical-align: top;\n",
       "    }\n",
       "\n",
       "    .dataframe thead th {\n",
       "        text-align: right;\n",
       "    }\n",
       "</style>\n",
       "<table border=\"1\" class=\"dataframe\">\n",
       "  <thead>\n",
       "    <tr style=\"text-align: right;\">\n",
       "      <th></th>\n",
       "      <th>words_per_comment</th>\n",
       "      <th>question_per_comment</th>\n",
       "      <th>excl_per_comment</th>\n",
       "      <th>upper_case</th>\n",
       "      <th>polarity</th>\n",
       "      <th>subjectivity</th>\n",
       "      <th>ellipsis_per_comment</th>\n",
       "    </tr>\n",
       "  </thead>\n",
       "  <tbody>\n",
       "    <tr>\n",
       "      <td>count</td>\n",
       "      <td>8675.000000</td>\n",
       "      <td>8675.000000</td>\n",
       "      <td>8675.000000</td>\n",
       "      <td>8675.000000</td>\n",
       "      <td>8675.000000</td>\n",
       "      <td>8675.000000</td>\n",
       "      <td>8675.000000</td>\n",
       "    </tr>\n",
       "    <tr>\n",
       "      <td>mean</td>\n",
       "      <td>1226.241499</td>\n",
       "      <td>10.730951</td>\n",
       "      <td>8.454294</td>\n",
       "      <td>282.125072</td>\n",
       "      <td>0.125152</td>\n",
       "      <td>0.535031</td>\n",
       "      <td>33.124265</td>\n",
       "    </tr>\n",
       "    <tr>\n",
       "      <td>std</td>\n",
       "      <td>311.210544</td>\n",
       "      <td>6.994926</td>\n",
       "      <td>11.610943</td>\n",
       "      <td>94.664190</td>\n",
       "      <td>0.060422</td>\n",
       "      <td>0.045603</td>\n",
       "      <td>14.972922</td>\n",
       "    </tr>\n",
       "    <tr>\n",
       "      <td>min</td>\n",
       "      <td>4.000000</td>\n",
       "      <td>0.000000</td>\n",
       "      <td>0.000000</td>\n",
       "      <td>0.000000</td>\n",
       "      <td>-0.800000</td>\n",
       "      <td>0.000000</td>\n",
       "      <td>0.000000</td>\n",
       "    </tr>\n",
       "    <tr>\n",
       "      <td>25%</td>\n",
       "      <td>1046.500000</td>\n",
       "      <td>6.000000</td>\n",
       "      <td>2.000000</td>\n",
       "      <td>224.000000</td>\n",
       "      <td>0.087922</td>\n",
       "      <td>0.505834</td>\n",
       "      <td>23.000000</td>\n",
       "    </tr>\n",
       "    <tr>\n",
       "      <td>50%</td>\n",
       "      <td>1278.000000</td>\n",
       "      <td>10.000000</td>\n",
       "      <td>5.000000</td>\n",
       "      <td>278.000000</td>\n",
       "      <td>0.122788</td>\n",
       "      <td>0.533764</td>\n",
       "      <td>33.000000</td>\n",
       "    </tr>\n",
       "    <tr>\n",
       "      <td>75%</td>\n",
       "      <td>1457.000000</td>\n",
       "      <td>14.000000</td>\n",
       "      <td>11.000000</td>\n",
       "      <td>333.000000</td>\n",
       "      <td>0.159827</td>\n",
       "      <td>0.562812</td>\n",
       "      <td>41.000000</td>\n",
       "    </tr>\n",
       "    <tr>\n",
       "      <td>max</td>\n",
       "      <td>1881.000000</td>\n",
       "      <td>121.000000</td>\n",
       "      <td>219.000000</td>\n",
       "      <td>940.000000</td>\n",
       "      <td>0.558087</td>\n",
       "      <td>1.000000</td>\n",
       "      <td>196.000000</td>\n",
       "    </tr>\n",
       "  </tbody>\n",
       "</table>\n",
       "</div>"
      ],
      "text/plain": [
       "       words_per_comment  question_per_comment  excl_per_comment   upper_case  \\\n",
       "count        8675.000000           8675.000000       8675.000000  8675.000000   \n",
       "mean         1226.241499             10.730951          8.454294   282.125072   \n",
       "std           311.210544              6.994926         11.610943    94.664190   \n",
       "min             4.000000              0.000000          0.000000     0.000000   \n",
       "25%          1046.500000              6.000000          2.000000   224.000000   \n",
       "50%          1278.000000             10.000000          5.000000   278.000000   \n",
       "75%          1457.000000             14.000000         11.000000   333.000000   \n",
       "max          1881.000000            121.000000        219.000000   940.000000   \n",
       "\n",
       "          polarity  subjectivity  ellipsis_per_comment  \n",
       "count  8675.000000   8675.000000           8675.000000  \n",
       "mean      0.125152      0.535031             33.124265  \n",
       "std       0.060422      0.045603             14.972922  \n",
       "min      -0.800000      0.000000              0.000000  \n",
       "25%       0.087922      0.505834             23.000000  \n",
       "50%       0.122788      0.533764             33.000000  \n",
       "75%       0.159827      0.562812             41.000000  \n",
       "max       0.558087      1.000000            196.000000  "
      ]
     },
     "execution_count": 5,
     "metadata": {},
     "output_type": "execute_result"
    }
   ],
   "source": [
    "df.describe()"
   ]
  },
  {
   "cell_type": "code",
   "execution_count": 6,
   "metadata": {},
   "outputs": [
    {
     "name": "stdout",
     "output_type": "stream",
     "text": [
      "   type                                              posts  words_per_comment  \\\n",
      "0  INTJ  'https://www.youtube.com/watch?v=8IEQpfA528M  ...               1143   \n",
      "1  INFP  'It's one of my daily 'music doodles', one min...                873   \n",
      "2  INFP  'NO. But I have dyscalculia. :X|||I've learned...                665   \n",
      "3  ISTP  '288970 It's been a while, guys. Also I bleach...                545   \n",
      "4  INFP  '29 and still have it. Never had a girlfriend....               1399   \n",
      "5  INFJ  'It gets to be pretty obvious the lifestyle di...               1049   \n",
      "6  INTP  'I used to find this difficult until I realize...               1190   \n",
      "7  INTJ  '1. ENTJs - Without fail my favorite people.  ...               1694   \n",
      "8  ENFP  'Can I just say I'm so glad and thankful that ...               1314   \n",
      "9  ESFP  'No I'm not, you go home!|||Farnsworth: ENTP F...               1090   \n",
      "\n",
      "   question_per_comment  excl_per_comment  upper_case  polarity  subjectivity  \\\n",
      "0                    34                 0         182  0.101422      0.546946   \n",
      "1                    15                 6         234  0.067913      0.542686   \n",
      "2                     6                 3         184  0.128141      0.579492   \n",
      "3                     8                13         125  0.052717      0.557769   \n",
      "4                     8                 3         221  0.046999      0.505684   \n",
      "5                     9                 1         272  0.161881      0.531768   \n",
      "6                    40                20         282  0.120509      0.571574   \n",
      "7                     2                 0         355  0.110448      0.474402   \n",
      "8                    38                10         299  0.098544      0.615180   \n",
      "9                     9                 1         377  0.101305      0.520738   \n",
      "\n",
      "   ellipsis_per_comment  I-E  N-S  T-F  J-P  \n",
      "0                    30    0    0    0    0  \n",
      "1                    17    0    0    1    1  \n",
      "2                    16    0    0    1    1  \n",
      "3                     5    0    1    0    1  \n",
      "4                    40    0    0    1    1  \n",
      "5                    19    0    0    1    0  \n",
      "6                    49    0    0    0    1  \n",
      "7                    46    0    0    0    0  \n",
      "8                    32    1    0    1    1  \n",
      "9                    21    1    1    1    1  \n"
     ]
    }
   ],
   "source": [
    "map1 = {\"I\": 0, \"E\": 1}\n",
    "map2 = {\"N\": 0, \"S\": 1}\n",
    "map3 = {\"T\": 0, \"F\": 1}\n",
    "map4 = {\"J\": 0, \"P\": 1}\n",
    "\n",
    "df['I-E'] = df['type'].astype(str).str[0]\n",
    "df['I-E'] = df['I-E'].map(map1)\n",
    "\n",
    "df['N-S'] = df['type'].astype(str).str[1]\n",
    "df['N-S'] = df['N-S'].map(map2)\n",
    "\n",
    "df['T-F'] = df['type'].astype(str).str[2]\n",
    "df['T-F'] = df['T-F'].map(map3)\n",
    "\n",
    "df['J-P'] = df['type'].astype(str).str[3]\n",
    "df['J-P'] = df['J-P'].map(map4)\n",
    "\n",
    "print(df.head(10))"
   ]
  },
  {
   "cell_type": "code",
   "execution_count": 7,
   "metadata": {},
   "outputs": [],
   "source": [
    "X = df.drop(['type','posts','I-E','N-S','T-F','J-P'], axis=1).values"
   ]
  },
  {
   "cell_type": "code",
   "execution_count": 10,
   "metadata": {
    "scrolled": false
   },
   "outputs": [
    {
     "name": "stdout",
     "output_type": "stream",
     "text": [
      "(8675,)\n",
      "(8675, 7)\n",
      "k: 1, Train/Test Score: 1.000/0.656\n",
      "k: 3, Train/Test Score: 0.830/0.717\n",
      "k: 5, Train/Test Score: 0.792/0.730\n",
      "k: 7, Train/Test Score: 0.783/0.749\n",
      "k: 9, Train/Test Score: 0.779/0.757\n",
      "k: 11, Train/Test Score: 0.778/0.764\n",
      "k: 13, Train/Test Score: 0.775/0.767\n",
      "k: 15, Train/Test Score: 0.771/0.770\n",
      "k: 17, Train/Test Score: 0.772/0.770\n",
      "k: 19, Train/Test Score: 0.772/0.771\n"
     ]
    },
    {
     "data": {
      "image/png": "[encoded data removed]",
      "text/plain": [
       "<Figure size 432x288 with 1 Axes>"
      ]
     },
     "metadata": {
      "needs_background": "light"
     },
     "output_type": "display_data"
    },
    {
     "data": {
      "text/plain": [
       "0.716589861751152"
      ]
     },
     "execution_count": 10,
     "metadata": {},
     "output_type": "execute_result"
    }
   ],
   "source": [
    "# Introvert vs. Extrovert\n",
    "\n",
    "y = df['I-E'].values\n",
    "\n",
    "print(y.shape)\n",
    "print(X.shape)\n",
    "\n",
    "X_train,X_test,y_train,y_test=train_test_split(X,y,test_size = 0.1, random_state=5)\n",
    "\n",
    "train_scores = []\n",
    "test_scores = []\n",
    "for k in range(1, 20, 2):\n",
    "    knn = KNeighborsClassifier(n_neighbors=k)\n",
    "    knn.fit(X_train, y_train)\n",
    "    train_score = knn.score(X_train, y_train)\n",
    "    test_score = knn.score(X_test, y_test)\n",
    "    train_scores.append(train_score)\n",
    "    test_scores.append(test_score)\n",
    "    print(f\"k: {k}, Train/Test Score: {train_score:.3f}/{test_score:.3f}\")\n",
    "    \n",
    "    \n",
    "plt.plot(range(1, 20, 2), train_scores, marker='o')\n",
    "plt.plot(range(1, 20, 2), test_scores, marker=\"x\")\n",
    "plt.xlabel(\"k neighbors\")\n",
    "plt.ylabel(\"Testing accuracy Score\")\n",
    "plt.show()\n",
    "\n",
    "knn = KNeighborsClassifier(n_neighbors = 3)\n",
    "knn.fit(X_train, y_train)\n",
    "\n",
    "y_pred = knn.predict(X_test)\n",
    "\n",
    "accuracy_score(y_test, y_pred)"
   ]
  },
  {
   "cell_type": "code",
   "execution_count": 12,
   "metadata": {
    "scrolled": false
   },
   "outputs": [
    {
     "name": "stdout",
     "output_type": "stream",
     "text": [
      "(8675,)\n",
      "(8675, 7)\n",
      "k: 1, Train/Test Score: 1.000/0.767\n",
      "k: 3, Train/Test Score: 0.881/0.839\n",
      "k: 5, Train/Test Score: 0.863/0.859\n",
      "k: 7, Train/Test Score: 0.861/0.870\n",
      "k: 9, Train/Test Score: 0.860/0.878\n",
      "k: 11, Train/Test Score: 0.860/0.880\n",
      "k: 13, Train/Test Score: 0.860/0.879\n",
      "k: 15, Train/Test Score: 0.860/0.879\n",
      "k: 17, Train/Test Score: 0.860/0.880\n",
      "k: 19, Train/Test Score: 0.860/0.880\n"
     ]
    },
    {
     "data": {
      "image/png": "[encoded data removed]",
      "text/plain": [
       "<Figure size 432x288 with 1 Axes>"
      ]
     },
     "metadata": {
      "needs_background": "light"
     },
     "output_type": "display_data"
    },
    {
     "data": {
      "text/plain": [
       "0.8387096774193549"
      ]
     },
     "execution_count": 12,
     "metadata": {},
     "output_type": "execute_result"
    }
   ],
   "source": [
    "#Intuitive vs. Sensing\n",
    "\n",
    "y = df['N-S'].values\n",
    "\n",
    "print(y.shape)\n",
    "print(X.shape)\n",
    "\n",
    "X_train,X_test,y_train,y_test=train_test_split(X,y,test_size = 0.1, random_state=5)\n",
    "\n",
    "train_scores = []\n",
    "test_scores = []\n",
    "for k in range(1, 20, 2):\n",
    "    knn = KNeighborsClassifier(n_neighbors=k)\n",
    "    knn.fit(X_train, y_train)\n",
    "    train_score = knn.score(X_train, y_train)\n",
    "    test_score = knn.score(X_test, y_test)\n",
    "    train_scores.append(train_score)\n",
    "    test_scores.append(test_score)\n",
    "    print(f\"k: {k}, Train/Test Score: {train_score:.3f}/{test_score:.3f}\")\n",
    "    \n",
    "    \n",
    "plt.plot(range(1, 20, 2), train_scores, marker='o')\n",
    "plt.plot(range(1, 20, 2), test_scores, marker=\"x\")\n",
    "plt.xlabel(\"k neighbors\")\n",
    "plt.ylabel(\"Testing accuracy Score\")\n",
    "plt.show()\n",
    "\n",
    "knn = KNeighborsClassifier(n_neighbors = 3)\n",
    "knn.fit(X_train, y_train)\n",
    "\n",
    "y_pred = knn.predict(X_test)\n",
    "\n",
    "accuracy_score(y_test, y_pred)"
   ]
  },
  {
   "cell_type": "code",
   "execution_count": 11,
   "metadata": {
    "scrolled": false
   },
   "outputs": [
    {
     "name": "stdout",
     "output_type": "stream",
     "text": [
      "(8675,)\n",
      "(8675, 7)\n",
      "k: 1, Train/Test Score: 1.000/0.523\n",
      "k: 3, Train/Test Score: 0.769/0.532\n",
      "k: 5, Train/Test Score: 0.715/0.545\n",
      "k: 7, Train/Test Score: 0.689/0.535\n",
      "k: 9, Train/Test Score: 0.672/0.550\n",
      "k: 11, Train/Test Score: 0.656/0.560\n",
      "k: 13, Train/Test Score: 0.649/0.560\n",
      "k: 15, Train/Test Score: 0.650/0.553\n",
      "k: 17, Train/Test Score: 0.646/0.561\n",
      "k: 19, Train/Test Score: 0.641/0.546\n"
     ]
    },
    {
     "data": {
      "image/png": "[encoded data removed]",
      "text/plain": [
       "<Figure size 432x288 with 1 Axes>"
      ]
     },
     "metadata": {
      "needs_background": "light"
     },
     "output_type": "display_data"
    },
    {
     "data": {
      "text/plain": [
       "0.532258064516129"
      ]
     },
     "execution_count": 11,
     "metadata": {},
     "output_type": "execute_result"
    }
   ],
   "source": [
    "# Thinking vs. Feeling\n",
    "\n",
    "y = df['T-F'].values\n",
    "\n",
    "print(y.shape)\n",
    "print(X.shape)\n",
    "\n",
    "X_train,X_test,y_train,y_test=train_test_split(X,y,test_size = 0.1, random_state=5)\n",
    "\n",
    "train_scores = []\n",
    "test_scores = []\n",
    "for k in range(1, 20, 2):\n",
    "    knn = KNeighborsClassifier(n_neighbors=k)\n",
    "    knn.fit(X_train, y_train)\n",
    "    train_score = knn.score(X_train, y_train)\n",
    "    test_score = knn.score(X_test, y_test)\n",
    "    train_scores.append(train_score)\n",
    "    test_scores.append(test_score)\n",
    "    print(f\"k: {k}, Train/Test Score: {train_score:.3f}/{test_score:.3f}\")\n",
    "    \n",
    "    \n",
    "plt.plot(range(1, 20, 2), train_scores, marker='o')\n",
    "plt.plot(range(1, 20, 2), test_scores, marker=\"x\")\n",
    "plt.xlabel(\"k neighbors\")\n",
    "plt.ylabel(\"Testing accuracy Score\")\n",
    "plt.show()\n",
    "\n",
    "knn = KNeighborsClassifier(n_neighbors = 3)\n",
    "knn.fit(X_train, y_train)\n",
    "\n",
    "y_pred = knn.predict(X_test)\n",
    "\n",
    "accuracy_score(y_test, y_pred)"
   ]
  },
  {
   "cell_type": "code",
   "execution_count": 12,
   "metadata": {
    "scrolled": false
   },
   "outputs": [
    {
     "name": "stdout",
     "output_type": "stream",
     "text": [
      "(8675,)\n",
      "(8675, 7)\n",
      "k: 1, Train/Test Score: 1.000/0.523\n",
      "k: 3, Train/Test Score: 0.762/0.518\n",
      "k: 5, Train/Test Score: 0.704/0.522\n",
      "k: 7, Train/Test Score: 0.678/0.526\n",
      "k: 9, Train/Test Score: 0.660/0.548\n",
      "k: 11, Train/Test Score: 0.647/0.563\n",
      "k: 13, Train/Test Score: 0.643/0.561\n",
      "k: 15, Train/Test Score: 0.640/0.554\n",
      "k: 17, Train/Test Score: 0.630/0.573\n",
      "k: 19, Train/Test Score: 0.631/0.568\n"
     ]
    },
    {
     "data": {
      "image/png": "[encoded data removed]",
      "text/plain": [
       "<Figure size 432x288 with 1 Axes>"
      ]
     },
     "metadata": {
      "needs_background": "light"
     },
     "output_type": "display_data"
    },
    {
     "data": {
      "text/plain": [
       "0.5184331797235023"
      ]
     },
     "execution_count": 12,
     "metadata": {},
     "output_type": "execute_result"
    }
   ],
   "source": [
    "# Judging vs. Perceiving\n",
    "\n",
    "y = df['J-P'].values\n",
    "\n",
    "print(y.shape)\n",
    "print(X.shape)\n",
    "\n",
    "X_train,X_test,y_train,y_test=train_test_split(X,y,test_size = 0.1, random_state=5)\n",
    "\n",
    "train_scores = []\n",
    "test_scores = []\n",
    "for k in range(1, 20, 2):\n",
    "    knn = KNeighborsClassifier(n_neighbors=k)\n",
    "    knn.fit(X_train, y_train)\n",
    "    train_score = knn.score(X_train, y_train)\n",
    "    test_score = knn.score(X_test, y_test)\n",
    "    train_scores.append(train_score)\n",
    "    test_scores.append(test_score)\n",
    "    print(f\"k: {k}, Train/Test Score: {train_score:.3f}/{test_score:.3f}\")\n",
    "    \n",
    "    \n",
    "plt.plot(range(1, 20, 2), train_scores, marker='o')\n",
    "plt.plot(range(1, 20, 2), test_scores, marker=\"x\")\n",
    "plt.xlabel(\"k neighbors\")\n",
    "plt.ylabel(\"Testing accuracy Score\")\n",
    "plt.show()\n",
    "\n",
    "knn = KNeighborsClassifier(n_neighbors = 3)\n",
    "knn.fit(X_train, y_train)\n",
    "\n",
    "y_pred = knn.predict(X_test)\n",
    "\n",
    "accuracy_score(y_test, y_pred)"
   ]
  },
  {
   "cell_type": "code",
   "execution_count": 13,
   "metadata": {},
   "outputs": [
    {
     "name": "stdout",
     "output_type": "stream",
     "text": [
      "(8675,)\n",
      "(8675, 7)\n",
      "k: 1, Train/Test Score: 1.000/0.139\n",
      "k: 3, Train/Test Score: 0.472/0.132\n",
      "k: 5, Train/Test Score: 0.398/0.164\n",
      "k: 7, Train/Test Score: 0.361/0.169\n",
      "k: 9, Train/Test Score: 0.341/0.171\n",
      "k: 11, Train/Test Score: 0.321/0.182\n",
      "k: 13, Train/Test Score: 0.310/0.175\n",
      "k: 15, Train/Test Score: 0.301/0.192\n",
      "k: 17, Train/Test Score: 0.295/0.206\n",
      "k: 19, Train/Test Score: 0.287/0.191\n"
     ]
    },
    {
     "data": {
      "image/png": "[encoded data removed]",
      "text/plain": [
       "<Figure size 432x288 with 1 Axes>"
      ]
     },
     "metadata": {
      "needs_background": "light"
     },
     "output_type": "display_data"
    },
    {
     "data": {
      "text/plain": [
       "0.13248847926267282"
      ]
     },
     "execution_count": 13,
     "metadata": {},
     "output_type": "execute_result"
    }
   ],
   "source": [
    "#Overall Score\n",
    "\n",
    "y = df['type'].values\n",
    "\n",
    "print(y.shape)\n",
    "print(X.shape)\n",
    "\n",
    "X_train,X_test,y_train,y_test=train_test_split(X,y,test_size = 0.1, random_state=5)\n",
    "\n",
    "train_scores = []\n",
    "test_scores = []\n",
    "for k in range(1, 20, 2):\n",
    "    knn = KNeighborsClassifier(n_neighbors=k)\n",
    "    knn.fit(X_train, y_train)\n",
    "    train_score = knn.score(X_train, y_train)\n",
    "    test_score = knn.score(X_test, y_test)\n",
    "    train_scores.append(train_score)\n",
    "    test_scores.append(test_score)\n",
    "    print(f\"k: {k}, Train/Test Score: {train_score:.3f}/{test_score:.3f}\")\n",
    "    \n",
    "    \n",
    "plt.plot(range(1, 20, 2), train_scores, marker='o')\n",
    "plt.plot(range(1, 20, 2), test_scores, marker=\"x\")\n",
    "plt.xlabel(\"k neighbors\")\n",
    "plt.ylabel(\"Testing accuracy Score\")\n",
    "plt.show()\n",
    "\n",
    "knn = KNeighborsClassifier(n_neighbors = 3)\n",
    "knn.fit(X_train, y_train)\n",
    "\n",
    "y_pred = knn.predict(X_test)\n",
    "\n",
    "accuracy_score(y_test, y_pred)"
   ]
  },
  {
   "cell_type": "code",
   "execution_count": null,
   "metadata": {},
   "outputs": [],
   "source": []
  },
  {
   "cell_type": "code",
   "execution_count": null,
   "metadata": {},
   "outputs": [],
   "source": []
  }
 ],
 "metadata": {
  "kernelspec": {
   "display_name": "Python 3",
   "language": "python",
   "name": "python3"
  },
  "language_info": {
   "codemirror_mode": {
    "name": "ipython",
    "version": 3
   },
   "file_extension": ".py",
   "mimetype": "text/x-python",
   "name": "python",
   "nbconvert_exporter": "python",
   "pygments_lexer": "ipython3",
   "version": "3.7.4"
  }
 },
 "nbformat": 4,
 "nbformat_minor": 2
}

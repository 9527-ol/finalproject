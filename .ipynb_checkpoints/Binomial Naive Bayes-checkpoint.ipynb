{
 "cells": [
  {
   "cell_type": "code",
   "execution_count": 1,
   "metadata": {},
   "outputs": [],
   "source": [
    "#Dependencies\n",
    "import pandas as pd\n",
    "from sqlalchemy import create_engine\n",
    "import json\n",
    "import psycopg2\n",
    "from tensorflow.keras.utils import to_categorical "
   ]
  },
  {
   "cell_type": "code",
   "execution_count": 2,
   "metadata": {},
   "outputs": [],
   "source": [
    "# Connection to AWS\n",
    "connection_string = psycopg2.connect(host=\"mypostgresdb.cnm9emj4w74o.us-east-2.rds.amazonaws.com\", port = 5432, database=\"project3\", user=\"rootlh\", password=\"password\")"
   ]
  },
  {
   "cell_type": "code",
   "execution_count": 3,
   "metadata": {},
   "outputs": [
    {
     "data": {
      "text/html": [
       "<div>\n",
       "<style scoped>\n",
       "    .dataframe tbody tr th:only-of-type {\n",
       "        vertical-align: middle;\n",
       "    }\n",
       "\n",
       "    .dataframe tbody tr th {\n",
       "        vertical-align: top;\n",
       "    }\n",
       "\n",
       "    .dataframe thead th {\n",
       "        text-align: right;\n",
       "    }\n",
       "</style>\n",
       "<table border=\"1\" class=\"dataframe\">\n",
       "  <thead>\n",
       "    <tr style=\"text-align: right;\">\n",
       "      <th></th>\n",
       "      <th>type</th>\n",
       "      <th>posts</th>\n",
       "    </tr>\n",
       "  </thead>\n",
       "  <tbody>\n",
       "    <tr>\n",
       "      <td>0</td>\n",
       "      <td>INTJ</td>\n",
       "      <td>'https://www.youtube.com/watch?v=8IEQpfA528M  ...</td>\n",
       "    </tr>\n",
       "    <tr>\n",
       "      <td>1</td>\n",
       "      <td>INFP</td>\n",
       "      <td>'It's one of my daily 'music doodles', one min...</td>\n",
       "    </tr>\n",
       "    <tr>\n",
       "      <td>2</td>\n",
       "      <td>INFP</td>\n",
       "      <td>'NO. But I have dyscalculia. :X|||I've learned...</td>\n",
       "    </tr>\n",
       "    <tr>\n",
       "      <td>3</td>\n",
       "      <td>ISTP</td>\n",
       "      <td>'288970 It's been a while, guys. Also I bleach...</td>\n",
       "    </tr>\n",
       "    <tr>\n",
       "      <td>4</td>\n",
       "      <td>INFP</td>\n",
       "      <td>'29 and still have it. Never had a girlfriend....</td>\n",
       "    </tr>\n",
       "  </tbody>\n",
       "</table>\n",
       "</div>"
      ],
      "text/plain": [
       "   type                                              posts\n",
       "0  INTJ  'https://www.youtube.com/watch?v=8IEQpfA528M  ...\n",
       "1  INFP  'It's one of my daily 'music doodles', one min...\n",
       "2  INFP  'NO. But I have dyscalculia. :X|||I've learned...\n",
       "3  ISTP  '288970 It's been a while, guys. Also I bleach...\n",
       "4  INFP  '29 and still have it. Never had a girlfriend...."
      ]
     },
     "execution_count": 3,
     "metadata": {},
     "output_type": "execute_result"
    }
   ],
   "source": [
    "#DataFrame\n",
    "df = pd.read_sql_query('select * from post_info', con=connection_string)\n",
    "df.head()"
   ]
  },
  {
   "cell_type": "code",
   "execution_count": 4,
   "metadata": {},
   "outputs": [
    {
     "data": {
      "text/html": [
       "<div>\n",
       "<style scoped>\n",
       "    .dataframe tbody tr th:only-of-type {\n",
       "        vertical-align: middle;\n",
       "    }\n",
       "\n",
       "    .dataframe tbody tr th {\n",
       "        vertical-align: top;\n",
       "    }\n",
       "\n",
       "    .dataframe thead th {\n",
       "        text-align: right;\n",
       "    }\n",
       "</style>\n",
       "<table border=\"1\" class=\"dataframe\">\n",
       "  <thead>\n",
       "    <tr style=\"text-align: right;\">\n",
       "      <th></th>\n",
       "      <th>type</th>\n",
       "      <th>posts</th>\n",
       "    </tr>\n",
       "  </thead>\n",
       "  <tbody>\n",
       "    <tr>\n",
       "      <td>0</td>\n",
       "      <td>INTJ</td>\n",
       "      <td>'https://www.youtube.com/watch?v=8IEQpfA528M  :ball:|||Kind of ironic that you talk about colours... seeing as for a very long time you have only been able to see the world in grey.   https://www.youtube.com/watch?v=1ENfTe2NFAc ...|||http://www.lovehorsepower.com/galleries/44269331/CheeseDS/album/slides/funny-pictures-8-lives-cat.jpg  :ball:|||Fictitious painted Mona Lisa smile versus hearing genuine and innocent laughter of a child. Thinking rationally... which one of the two do you think really adds anything to a society?  :ball:|||Are you trying to argue again? Remember to soften up and be mush.  :ball:|||I had a suspicion that you were a deconstructionist.The only thing you obliterated was the original (and very interesting) point made Tucken with a mediocre and superficial ramble.  I'm pretty...|||Well you said Tucken has a very valid point. So what exactly isn't important to you?  :ball:|||Well would it help you if I brought your attention to the title of the thread as a sta...</td>\n",
       "    </tr>\n",
       "    <tr>\n",
       "      <td>1</td>\n",
       "      <td>INFP</td>\n",
       "      <td>'It's one of my daily 'music doodles', one minute compositions basically.|||Hello everyone! Sorry for the LONG break, it wasn't really a break since I pretty much spent half the day everyday practicing my compositional skills.  Those of you that still remember my first...|||Hello everyone, sorry for not posting or keeping you updated on my music and all. I've had tons of books I had to read. I'm not done yet but I just wanted to say hi :3 and gonna start making some...|||How to not piss off an INFP  By Cthulu.|||1) Pretend you just payed attention to what they said 2) Nod and smile 3) ??? 4) PROFIT!!!|||Hotspur Ahh I've been away from this forum for so long.  I can say that I've improved a lot and I'm working on a new song for some time now :)|||I finally figured out how to program subtractive synths and frequency modulated(FM) synths, as well as make badass synth riffs(that are also simple and memorable) that goes well with vocals!  Eh,...|||I live in a supercaliflageristic world...</td>\n",
       "    </tr>\n",
       "    <tr>\n",
       "      <td>2</td>\n",
       "      <td>INFP</td>\n",
       "      <td>'NO. But I have dyscalculia. :X|||I've learned to love myself by flat-out refusing to listen or engage in any negative self-talk.|||I have tried to kill myself.  It's fucking shit waking up in hospital, and STILL wanting to die.  Get help NOW, before it gets out of control. I wanted to die so badly, I was afraid of myself....|||I can't see any patterns yet. But I'll contribute anyhow:  Brown - INFP. Occaisonally INTP. [usually when I'm feeling less emotional]|||I'm the wrong gender to answer...  *post-whoring*|||I shall do my best to enlighten you based on my own personal experience, as I am supposedly an introvert.   Tell you what, I can never be sure what happens with other people but me? Yeah. I...|||Hey! I'm an INFP girl too. Nice to have you here, hope you enjoy it.|||I'm mostly well apart from being bored. &lt;=== my base feeling of late. :/|||Some of those were hard to spell.|||Softly spoken sibilance is enchanting; listen, sssh.   Atmosphere, luCid, irediscent, evanescence, e...</td>\n",
       "    </tr>\n",
       "    <tr>\n",
       "      <td>3</td>\n",
       "      <td>ISTP</td>\n",
       "      <td>'288970 It's been a while, guys. Also I bleached my hair.|||I disappear for months.|||https://www.youtube.com/watch?v=Irc-hcKtDJg|||I'd cry.|||Why are people so crazy?|||Lonely.|||I absolutely loathe stupid people.|||Booooooooooooooooooooooooooooooooooorrrrrrrreeeeeeeeeeeedddddddddddd!|||Dumb and not dumb.|||I bought a car. Woohoo!|||Need cuddles.|||http://tapatalk.imageshack.com/v2/14/09/13/880f207cf65746b799d28aee6f3d77ef.jpg|||We make the party Super naughty|||I definitely am. Being an ISTP doesn't mean being a socially retarded lazy weirdo, although a lot of people on this forum would have you believe otherwise. What do you suspect I am, anyway?|||Mac n cheese!|||A big, hearty laugh.|||People are super crazy...|||There's nothing more fun than dancing and lipsyncing to music around my room.|||Nope. My first job was at a doctor's office and I kept it for nearly two years until I just recently quit to visit my family in England for 2 months.  There's no reason to be lazy, especia...</td>\n",
       "    </tr>\n",
       "    <tr>\n",
       "      <td>4</td>\n",
       "      <td>INFP</td>\n",
       "      <td>'29 and still have it. Never had a girlfriend. I definitely feel the pressure at times, but I think most of it comes from myself. I often wonder if it makes sense to wait for someone I love or if I am...|||StellarSkies, I like your dark hair more than the blonde. It goes very nicely with your eyes.|||I recently had somebody tell me they wished they were like me regarding my lack of a girlfriend.  I told them it was not anything like they were suggesting, and it was difficult as I could not put my...|||I have social anxiety and it is preventing me from dating, which seems to have been the largest stressor in my life for the past couple years.  Do you have any suggestions for books, websites,...|||Remove humans from the universe.|||Why am I sad?  I have no hobbies or interests outside of work. I am happy at work (when people are doing their jobs competently), but it is regulated, weather-, and time-dependent and I simply...|||Why couldn't I have developed basic social skills?  Why d...</td>\n",
       "    </tr>\n",
       "  </tbody>\n",
       "</table>\n",
       "</div>"
      ],
      "text/plain": [
       "   type  \\\n",
       "0  INTJ   \n",
       "1  INFP   \n",
       "2  INFP   \n",
       "3  ISTP   \n",
       "4  INFP   \n",
       "\n",
       "                                                                                                                                                                                                                                                                                                                                                                                                                                                                                                                                                                                                                                                                                                                                                                                                                                                                                                                                                                                                                                    posts  \n",
       "0  'https://www.youtube.com/watch?v=8IEQpfA528M  :ball:|||Kind of ironic that you talk about colours... seeing as for a very long time you have only been able to see the world in grey.   https://www.youtube.com/watch?v=1ENfTe2NFAc ...|||http://www.lovehorsepower.com/galleries/44269331/CheeseDS/album/slides/funny-pictures-8-lives-cat.jpg  :ball:|||Fictitious painted Mona Lisa smile versus hearing genuine and innocent laughter of a child. Thinking rationally... which one of the two do you think really adds anything to a society?  :ball:|||Are you trying to argue again? Remember to soften up and be mush.  :ball:|||I had a suspicion that you were a deconstructionist.The only thing you obliterated was the original (and very interesting) point made Tucken with a mediocre and superficial ramble.  I'm pretty...|||Well you said Tucken has a very valid point. So what exactly isn't important to you?  :ball:|||Well would it help you if I brought your attention to the title of the thread as a sta...  \n",
       "1  'It's one of my daily 'music doodles', one minute compositions basically.|||Hello everyone! Sorry for the LONG break, it wasn't really a break since I pretty much spent half the day everyday practicing my compositional skills.  Those of you that still remember my first...|||Hello everyone, sorry for not posting or keeping you updated on my music and all. I've had tons of books I had to read. I'm not done yet but I just wanted to say hi :3 and gonna start making some...|||How to not piss off an INFP  By Cthulu.|||1) Pretend you just payed attention to what they said 2) Nod and smile 3) ??? 4) PROFIT!!!|||Hotspur Ahh I've been away from this forum for so long.  I can say that I've improved a lot and I'm working on a new song for some time now :)|||I finally figured out how to program subtractive synths and frequency modulated(FM) synths, as well as make badass synth riffs(that are also simple and memorable) that goes well with vocals!  Eh,...|||I live in a supercaliflageristic world...  \n",
       "2  'NO. But I have dyscalculia. :X|||I've learned to love myself by flat-out refusing to listen or engage in any negative self-talk.|||I have tried to kill myself.  It's fucking shit waking up in hospital, and STILL wanting to die.  Get help NOW, before it gets out of control. I wanted to die so badly, I was afraid of myself....|||I can't see any patterns yet. But I'll contribute anyhow:  Brown - INFP. Occaisonally INTP. [usually when I'm feeling less emotional]|||I'm the wrong gender to answer...  *post-whoring*|||I shall do my best to enlighten you based on my own personal experience, as I am supposedly an introvert.   Tell you what, I can never be sure what happens with other people but me? Yeah. I...|||Hey! I'm an INFP girl too. Nice to have you here, hope you enjoy it.|||I'm mostly well apart from being bored. <=== my base feeling of late. :/|||Some of those were hard to spell.|||Softly spoken sibilance is enchanting; listen, sssh.   Atmosphere, luCid, irediscent, evanescence, e...  \n",
       "3  '288970 It's been a while, guys. Also I bleached my hair.|||I disappear for months.|||https://www.youtube.com/watch?v=Irc-hcKtDJg|||I'd cry.|||Why are people so crazy?|||Lonely.|||I absolutely loathe stupid people.|||Booooooooooooooooooooooooooooooooooorrrrrrrreeeeeeeeeeeedddddddddddd!|||Dumb and not dumb.|||I bought a car. Woohoo!|||Need cuddles.|||http://tapatalk.imageshack.com/v2/14/09/13/880f207cf65746b799d28aee6f3d77ef.jpg|||We make the party Super naughty|||I definitely am. Being an ISTP doesn't mean being a socially retarded lazy weirdo, although a lot of people on this forum would have you believe otherwise. What do you suspect I am, anyway?|||Mac n cheese!|||A big, hearty laugh.|||People are super crazy...|||There's nothing more fun than dancing and lipsyncing to music around my room.|||Nope. My first job was at a doctor's office and I kept it for nearly two years until I just recently quit to visit my family in England for 2 months.  There's no reason to be lazy, especia...  \n",
       "4  '29 and still have it. Never had a girlfriend. I definitely feel the pressure at times, but I think most of it comes from myself. I often wonder if it makes sense to wait for someone I love or if I am...|||StellarSkies, I like your dark hair more than the blonde. It goes very nicely with your eyes.|||I recently had somebody tell me they wished they were like me regarding my lack of a girlfriend.  I told them it was not anything like they were suggesting, and it was difficult as I could not put my...|||I have social anxiety and it is preventing me from dating, which seems to have been the largest stressor in my life for the past couple years.  Do you have any suggestions for books, websites,...|||Remove humans from the universe.|||Why am I sad?  I have no hobbies or interests outside of work. I am happy at work (when people are doing their jobs competently), but it is regulated, weather-, and time-dependent and I simply...|||Why couldn't I have developed basic social skills?  Why d...  "
      ]
     },
     "metadata": {},
     "output_type": "display_data"
    }
   ],
   "source": [
    "from IPython.display import display\n",
    "\n",
    "with pd.option_context(\"max_colwidth\", 999):\n",
    "    display(df.head())"
   ]
  },
  {
   "cell_type": "code",
   "execution_count": 5,
   "metadata": {},
   "outputs": [
    {
     "data": {
      "text/plain": [
       "INFP    1832\n",
       "INFJ    1470\n",
       "INTP    1304\n",
       "INTJ    1091\n",
       "ENTP     685\n",
       "ENFP     675\n",
       "ISTP     337\n",
       "ISFP     271\n",
       "ENTJ     231\n",
       "ISTJ     205\n",
       "ENFJ     190\n",
       "ISFJ     166\n",
       "ESTP      89\n",
       "ESFP      48\n",
       "ESFJ      42\n",
       "ESTJ      39\n",
       "Name: type, dtype: int64"
      ]
     },
     "execution_count": 5,
     "metadata": {},
     "output_type": "execute_result"
    }
   ],
   "source": [
    "#ValueCounts\n",
    "df[\"type\"].value_counts()"
   ]
  },
  {
   "cell_type": "code",
   "execution_count": 6,
   "metadata": {},
   "outputs": [
    {
     "name": "stdout",
     "output_type": "stream",
     "text": [
      "   type                                              posts  introversion  \\\n",
      "0  INTJ  'https://www.youtube.com/watch?v=8IEQpfA528M  ...             0   \n",
      "1  INFP  'It's one of my daily 'music doodles', one min...             0   \n",
      "2  INFP  'NO. But I have dyscalculia. :X|||I've learned...             0   \n",
      "3  ISTP  '288970 It's been a while, guys. Also I bleach...             0   \n",
      "4  INFP  '29 and still have it. Never had a girlfriend....             0   \n",
      "5  INFJ  'It gets to be pretty obvious the lifestyle di...             0   \n",
      "6  INTP  'I used to find this difficult until I realize...             0   \n",
      "7  INTJ  '1. ENTJs - Without fail my favorite people.  ...             0   \n",
      "8  ENFP  'Can I just say I'm so glad and thankful that ...             1   \n",
      "9  ESFP  'No I'm not, you go home!|||Farnsworth: ENTP F...             1   \n",
      "\n",
      "   information  decisions  structure  \n",
      "0            0          0          0  \n",
      "1            0          1          1  \n",
      "2            0          1          1  \n",
      "3            1          0          1  \n",
      "4            0          1          1  \n",
      "5            0          1          0  \n",
      "6            0          0          1  \n",
      "7            0          0          0  \n",
      "8            0          1          1  \n",
      "9            1          1          1  \n"
     ]
    }
   ],
   "source": [
    "# Mapping and assigning values to the categories\n",
    "map1 = {\"I\": 0, \"E\": 1}\n",
    "map2 = {\"N\": 0, \"S\": 1}\n",
    "map3 = {\"T\": 0, \"F\": 1}\n",
    "map4 = {\"J\": 0, \"P\": 1}\n",
    "\n",
    "df['introversion'] = df['type'].astype(str).str[0]\n",
    "df['introversion'] = df['introversion'].map(map1)\n",
    "\n",
    "df['information'] = df['type'].astype(str).str[1]\n",
    "df['information'] = df['information'].map(map2)\n",
    "\n",
    "df['decisions'] = df['type'].astype(str).str[2]\n",
    "df['decisions'] = df['decisions'].map(map3)\n",
    "\n",
    "df['structure'] = df['type'].astype(str).str[3]\n",
    "df['structure'] = df['structure'].map(map4)\n",
    "\n",
    "print(df.head(10))"
   ]
  },
  {
   "cell_type": "markdown",
   "metadata": {},
   "source": [
    "INTROVERSION"
   ]
  },
  {
   "cell_type": "code",
   "execution_count": 7,
   "metadata": {},
   "outputs": [
    {
     "name": "stdout",
     "output_type": "stream",
     "text": [
      "(8675,)\n",
      "(8675,)\n"
     ]
    }
   ],
   "source": [
    "# defining x and y\n",
    "X =df.posts\n",
    "y = df.introversion\n",
    "print(X.shape)\n",
    "print(y.shape)"
   ]
  },
  {
   "cell_type": "code",
   "execution_count": 8,
   "metadata": {},
   "outputs": [],
   "source": [
    "from sklearn.model_selection import train_test_split\n",
    "X_train, X_test, y_train, y_test = train_test_split(X, y, random_state=1)\n",
    "\n",
    "# print(X_train.shape)\n",
    "# print(X_test.shape)\n",
    "# print(y_train.shape)\n",
    "# print(y_test.shape)"
   ]
  },
  {
   "cell_type": "code",
   "execution_count": 9,
   "metadata": {},
   "outputs": [],
   "source": [
    "# X_train"
   ]
  },
  {
   "cell_type": "code",
   "execution_count": 10,
   "metadata": {},
   "outputs": [
    {
     "data": {
      "text/plain": [
       "array([[0, 0, 0, ..., 0, 0, 0],\n",
       "       [0, 0, 0, ..., 0, 0, 0],\n",
       "       [0, 0, 0, ..., 0, 0, 0],\n",
       "       ...,\n",
       "       [0, 0, 0, ..., 0, 0, 0],\n",
       "       [0, 0, 0, ..., 0, 0, 0],\n",
       "       [0, 0, 0, ..., 0, 0, 0]], dtype=int64)"
      ]
     },
     "execution_count": 10,
     "metadata": {},
     "output_type": "execute_result"
    }
   ],
   "source": [
    "from sklearn.feature_extraction.text import CountVectorizer\n",
    "# Instantiate the vectorizer\n",
    "vect = CountVectorizer()\n",
    "vect.fit(X_train)\n",
    "\n",
    "# Transform training data\n",
    "X_train_dtm = vect.transform(X_train)\n",
    "X_train_dtm.toarray()\n"
   ]
  },
  {
   "cell_type": "code",
   "execution_count": 11,
   "metadata": {},
   "outputs": [],
   "source": [
    "# print(X_train_dtm)"
   ]
  },
  {
   "cell_type": "code",
   "execution_count": 12,
   "metadata": {},
   "outputs": [
    {
     "data": {
      "text/plain": [
       "array([[0, 0, 0, ..., 0, 0, 0],\n",
       "       [0, 0, 0, ..., 0, 0, 0],\n",
       "       [0, 0, 0, ..., 0, 0, 0],\n",
       "       ...,\n",
       "       [0, 0, 0, ..., 0, 0, 0],\n",
       "       [0, 0, 0, ..., 0, 0, 0],\n",
       "       [0, 0, 0, ..., 0, 0, 0]], dtype=int64)"
      ]
     },
     "execution_count": 12,
     "metadata": {},
     "output_type": "execute_result"
    }
   ],
   "source": [
    "# Transform testing data (using fitted vocabulary) into a document-term matrix\n",
    "X_test_dtm = vect.transform(X_test)\n",
    "X_test_dtm.toarray()"
   ]
  },
  {
   "cell_type": "code",
   "execution_count": 13,
   "metadata": {},
   "outputs": [
    {
     "data": {
      "text/plain": [
       "(6506, 122165)"
      ]
     },
     "execution_count": 13,
     "metadata": {},
     "output_type": "execute_result"
    }
   ],
   "source": [
    "from sklearn.feature_extraction.text import TfidfTransformer\n",
    "# TfidfVectorizer combines all the options of CountVectorizer and TfidfTransformer in a single model:\n",
    "tfidf_transformer = TfidfTransformer()\n",
    "X_train_tfidf = tfidf_transformer.fit_transform(X_train_dtm)\n",
    "X_train_tfidf.shape\n"
   ]
  },
  {
   "cell_type": "code",
   "execution_count": 14,
   "metadata": {},
   "outputs": [
    {
     "data": {
      "text/plain": [
       "(2169, 122165)"
      ]
     },
     "execution_count": 14,
     "metadata": {},
     "output_type": "execute_result"
    }
   ],
   "source": [
    "X_test_tf = tfidf_transformer.transform(X_test_dtm)\n",
    "X_test_tf.shape"
   ]
  },
  {
   "cell_type": "code",
   "execution_count": 15,
   "metadata": {},
   "outputs": [],
   "source": [
    "# X_test_tfid = vectorizer.transform(X_test)\n",
    "# X_test_tfid"
   ]
  },
  {
   "cell_type": "code",
   "execution_count": 16,
   "metadata": {},
   "outputs": [],
   "source": [
    "# Import\n",
    "from sklearn.naive_bayes import MultinomialNB\n",
    "\n",
    "# Initialize a Multinomial Naive Bayes model\n",
    "nb = MultinomialNB()"
   ]
  },
  {
   "cell_type": "code",
   "execution_count": 17,
   "metadata": {},
   "outputs": [
    {
     "data": {
      "text/plain": [
       "MultinomialNB(alpha=1.0, class_prior=None, fit_prior=True)"
      ]
     },
     "execution_count": 17,
     "metadata": {},
     "output_type": "execute_result"
    }
   ],
   "source": [
    "nb.fit(X_train_tfidf, y_train)"
   ]
  },
  {
   "cell_type": "code",
   "execution_count": 18,
   "metadata": {},
   "outputs": [],
   "source": [
    "#make class predictions for X_test_dtm\n",
    "y_pred_class = nb.predict(X_test_tf)"
   ]
  },
  {
   "cell_type": "code",
   "execution_count": 19,
   "metadata": {},
   "outputs": [
    {
     "data": {
      "text/plain": [
       "0.7597971415398801"
      ]
     },
     "execution_count": 19,
     "metadata": {},
     "output_type": "execute_result"
    }
   ],
   "source": [
    "# calculate accuracy of class predictions\n",
    "from sklearn import metrics\n",
    "metrics.accuracy_score(y_test, y_pred_class)"
   ]
  },
  {
   "cell_type": "markdown",
   "metadata": {},
   "source": [
    "INFORMATION"
   ]
  },
  {
   "cell_type": "code",
   "execution_count": 20,
   "metadata": {},
   "outputs": [],
   "source": [
    "X =df.posts \n",
    "y = df.information\n",
    "X_train, X_test, y_train, y_test = train_test_split(X, y, random_state=1)"
   ]
  },
  {
   "cell_type": "code",
   "execution_count": 21,
   "metadata": {},
   "outputs": [
    {
     "data": {
      "text/plain": [
       "0.8570769940064545"
      ]
     },
     "execution_count": 21,
     "metadata": {},
     "output_type": "execute_result"
    }
   ],
   "source": [
    "# Instantiate the vectorizer\n",
    "vect = CountVectorizer()\n",
    "vect.fit(X_train)\n",
    "\n",
    "# Transform training data\n",
    "X_train_dtm = vect.transform(X_train)\n",
    "X_train_dtm.toarray()\n",
    "\n",
    "\n",
    "# Transform testing data (using fitted vocabulary) into a document-term matrix\n",
    "X_test_dtm = vect.transform(X_test)\n",
    "X_test_dtm.toarray()\n",
    "\n",
    "tfidf_transformer = TfidfTransformer()\n",
    "X_train_tfidf = tfidf_transformer.fit_transform(X_train_dtm)\n",
    "X_train_tfidf.shape\n",
    "\n",
    "X_test_tf = tfidf_transformer.transform(X_test_dtm)\n",
    "X_test_tf.shape\n",
    "\n",
    "# Multinomial Naive Bayes model\n",
    "nb = MultinomialNB()\n",
    "\n",
    "nb.fit(X_train_tfidf, y_train)\n",
    "\n",
    "#make class predictions for X_test_dtm\n",
    "y_pred_class = nb.predict(X_test_tf)\n",
    "\n",
    "# calculate accuracy of class predictions\n",
    "metrics.accuracy_score(y_test, y_pred_class)"
   ]
  },
  {
   "cell_type": "markdown",
   "metadata": {},
   "source": [
    "DECISIONS"
   ]
  },
  {
   "cell_type": "code",
   "execution_count": 22,
   "metadata": {},
   "outputs": [],
   "source": [
    "X =df.posts \n",
    "y = df.decisions\n",
    "X_train, X_test, y_train, y_test = train_test_split(X, y, random_state=1)"
   ]
  },
  {
   "cell_type": "code",
   "execution_count": 23,
   "metadata": {},
   "outputs": [
    {
     "data": {
      "text/plain": [
       "0.5606270170585523"
      ]
     },
     "execution_count": 23,
     "metadata": {},
     "output_type": "execute_result"
    }
   ],
   "source": [
    "vect = CountVectorizer()\n",
    "vect.fit(X_train)\n",
    "\n",
    "# Transform training data\n",
    "X_train_dtm = vect.transform(X_train)\n",
    "X_train_dtm.toarray()\n",
    "\n",
    "\n",
    "# Transform testing data (using fitted vocabulary) into a document-term matrix\n",
    "X_test_dtm = vect.transform(X_test)\n",
    "X_test_dtm.toarray()\n",
    "\n",
    "tfidf_transformer = TfidfTransformer()\n",
    "X_train_tfidf = tfidf_transformer.fit_transform(X_train_dtm)\n",
    "X_train_tfidf.shape\n",
    "\n",
    "X_test_tf = tfidf_transformer.transform(X_test_dtm)\n",
    "X_test_tf.shape\n",
    "\n",
    "\n",
    "# Multinomial Naive Bayes model\n",
    "nb = MultinomialNB()\n",
    "\n",
    "nb.fit(X_train_tfidf, y_train)\n",
    "\n",
    "#make class predictions for X_test_dtm\n",
    "y_pred_class = nb.predict(X_test_tf)\n",
    "\n",
    "# calculate accuracy of class predictions\n",
    "metrics.accuracy_score(y_test, y_pred_class)"
   ]
  },
  {
   "cell_type": "markdown",
   "metadata": {},
   "source": [
    "STRUCTURE"
   ]
  },
  {
   "cell_type": "code",
   "execution_count": 24,
   "metadata": {},
   "outputs": [],
   "source": [
    "X =df.posts \n",
    "y = df.structure\n",
    "X_train, X_test, y_train, y_test = train_test_split(X, y, random_state=1)"
   ]
  },
  {
   "cell_type": "code",
   "execution_count": 25,
   "metadata": {},
   "outputs": [
    {
     "data": {
      "text/plain": [
       "0.5993545412632549"
      ]
     },
     "execution_count": 25,
     "metadata": {},
     "output_type": "execute_result"
    }
   ],
   "source": [
    "vect = CountVectorizer()\n",
    "vect.fit(X_train)\n",
    "\n",
    "# Transform training data\n",
    "X_train_dtm = vect.transform(X_train)\n",
    "X_train_dtm.toarray()\n",
    "\n",
    "# Transform testing data (using fitted vocabulary) into a document-term matrix\n",
    "X_test_dtm = vect.transform(X_test)\n",
    "X_test_dtm.toarray()\n",
    "\n",
    "tfidf_transformer = TfidfTransformer()\n",
    "X_train_tfidf = tfidf_transformer.fit_transform(X_train_dtm)\n",
    "X_train_tfidf.shape\n",
    "\n",
    "X_test_tf = tfidf_transformer.transform(X_test_dtm)\n",
    "X_test_tf.shape\n",
    "\n",
    "\n",
    "# Multinomial Naive Bayes model\n",
    "nb = MultinomialNB()\n",
    "\n",
    "nb.fit(X_train_tfidf, y_train)\n",
    "\n",
    "#make class predictions for X_test_dtm\n",
    "y_pred_class = nb.predict(X_test_tf)\n",
    "\n",
    "# calculate accuracy of class predictions\n",
    "metrics.accuracy_score(y_test, y_pred_class)"
   ]
  }
 ],
 "metadata": {
  "kernelspec": {
   "display_name": "Python 3",
   "language": "python",
   "name": "python3"
  },
  "language_info": {
   "codemirror_mode": {
    "name": "ipython",
    "version": 3
   },
   "file_extension": ".py",
   "mimetype": "text/x-python",
   "name": "python",
   "nbconvert_exporter": "python",
   "pygments_lexer": "ipython3",
   "version": "3.7.4"
  }
 },
 "nbformat": 4,
 "nbformat_minor": 2
}

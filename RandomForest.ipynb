{
 "cells": [
  {
   "cell_type": "code",
   "execution_count": 1,
   "metadata": {},
   "outputs": [],
   "source": [
    "import pandas as pd\n",
    "import psycopg2"
   ]
  },
  {
   "cell_type": "code",
   "execution_count": 2,
   "metadata": {},
   "outputs": [],
   "source": [
    "connection_string = psycopg2.connect(host=\"mypostgresdb.cnm9emj4w74o.us-east-2.rds.amazonaws.com\", port = 5432, database=\"project3\", user=\"rootlh\", password=\"password\")"
   ]
  },
  {
   "cell_type": "code",
   "execution_count": 3,
   "metadata": {},
   "outputs": [
    {
     "data": {
      "text/html": [
       "<div>\n",
       "<style scoped>\n",
       "    .dataframe tbody tr th:only-of-type {\n",
       "        vertical-align: middle;\n",
       "    }\n",
       "\n",
       "    .dataframe tbody tr th {\n",
       "        vertical-align: top;\n",
       "    }\n",
       "\n",
       "    .dataframe thead th {\n",
       "        text-align: right;\n",
       "    }\n",
       "</style>\n",
       "<table border=\"1\" class=\"dataframe\">\n",
       "  <thead>\n",
       "    <tr style=\"text-align: right;\">\n",
       "      <th></th>\n",
       "      <th>type</th>\n",
       "      <th>posts</th>\n",
       "    </tr>\n",
       "  </thead>\n",
       "  <tbody>\n",
       "    <tr>\n",
       "      <td>0</td>\n",
       "      <td>INTJ</td>\n",
       "      <td>'https://www.youtube.com/watch?v=8IEQpfA528M  ...</td>\n",
       "    </tr>\n",
       "    <tr>\n",
       "      <td>1</td>\n",
       "      <td>INFP</td>\n",
       "      <td>'It's one of my daily 'music doodles', one min...</td>\n",
       "    </tr>\n",
       "    <tr>\n",
       "      <td>2</td>\n",
       "      <td>INFP</td>\n",
       "      <td>'NO. But I have dyscalculia. :X|||I've learned...</td>\n",
       "    </tr>\n",
       "    <tr>\n",
       "      <td>3</td>\n",
       "      <td>ISTP</td>\n",
       "      <td>'288970 It's been a while, guys. Also I bleach...</td>\n",
       "    </tr>\n",
       "    <tr>\n",
       "      <td>4</td>\n",
       "      <td>INFP</td>\n",
       "      <td>'29 and still have it. Never had a girlfriend....</td>\n",
       "    </tr>\n",
       "  </tbody>\n",
       "</table>\n",
       "</div>"
      ],
      "text/plain": [
       "   type                                              posts\n",
       "0  INTJ  'https://www.youtube.com/watch?v=8IEQpfA528M  ...\n",
       "1  INFP  'It's one of my daily 'music doodles', one min...\n",
       "2  INFP  'NO. But I have dyscalculia. :X|||I've learned...\n",
       "3  ISTP  '288970 It's been a while, guys. Also I bleach...\n",
       "4  INFP  '29 and still have it. Never had a girlfriend...."
      ]
     },
     "execution_count": 3,
     "metadata": {},
     "output_type": "execute_result"
    }
   ],
   "source": [
    "df = pd.read_sql_query('select * from post_info', con=connection_string)\n",
    "df.head()"
   ]
  },
  {
   "cell_type": "code",
   "execution_count": 4,
   "metadata": {},
   "outputs": [
    {
     "name": "stdout",
     "output_type": "stream",
     "text": [
      "Requirement already up-to-date: textblob in c:\\users\\shiba\\anaconda3\\lib\\site-packages (0.15.3)\n",
      "Requirement already satisfied, skipping upgrade: nltk>=3.1 in c:\\users\\shiba\\anaconda3\\lib\\site-packages (from textblob) (3.4.5)\n",
      "Requirement already satisfied, skipping upgrade: six in c:\\users\\shiba\\anaconda3\\lib\\site-packages (from nltk>=3.1->textblob) (1.12.0)\n",
      "Note: you may need to restart the kernel to use updated packages.\n"
     ]
    }
   ],
   "source": [
    "pip install -U textblob"
   ]
  },
  {
   "cell_type": "code",
   "execution_count": 5,
   "metadata": {},
   "outputs": [],
   "source": [
    "from textblob import TextBlob"
   ]
  },
  {
   "cell_type": "code",
   "execution_count": 6,
   "metadata": {},
   "outputs": [
    {
     "name": "stdout",
     "output_type": "stream",
     "text": [
      "   type                                              posts  words_per_comment  \\\n",
      "0  INTJ  'https://www.youtube.com/watch?v=8IEQpfA528M  ...              22.86   \n",
      "1  INFP  'It's one of my daily 'music doodles', one min...              17.46   \n",
      "2  INFP  'NO. But I have dyscalculia. :X|||I've learned...              13.30   \n",
      "3  ISTP  '288970 It's been a while, guys. Also I bleach...              10.90   \n",
      "4  INFP  '29 and still have it. Never had a girlfriend....              27.98   \n",
      "5  INFJ  'It gets to be pretty obvious the lifestyle di...              20.98   \n",
      "6  INTP  'I used to find this difficult until I realize...              23.80   \n",
      "7  INTJ  '1. ENTJs - Without fail my favorite people.  ...              33.88   \n",
      "8  ENFP  'Can I just say I'm so glad and thankful that ...              26.28   \n",
      "9  ESFP  'No I'm not, you go home!|||Farnsworth: ENTP F...              21.80   \n",
      "\n",
      "   question_per_comment  excl_per_comment  upper_case  polarity  subjectivity  \\\n",
      "0                  0.68              0.00        3.64  0.101422      0.546946   \n",
      "1                  0.30              0.12        4.68  0.067913      0.542686   \n",
      "2                  0.12              0.06        3.68  0.128141      0.579492   \n",
      "3                  0.16              0.26        2.50  0.052717      0.557769   \n",
      "4                  0.16              0.06        4.42  0.046999      0.505684   \n",
      "5                  0.18              0.02        5.44  0.161881      0.531768   \n",
      "6                  0.80              0.40        5.64  0.120509      0.571574   \n",
      "7                  0.04              0.00        7.10  0.110448      0.474402   \n",
      "8                  0.76              0.20        5.98  0.098544      0.615180   \n",
      "9                  0.18              0.02        7.54  0.101305      0.520738   \n",
      "\n",
      "   ellipsis_per_comment  \n",
      "0                  0.60  \n",
      "1                  0.34  \n",
      "2                  0.32  \n",
      "3                  0.10  \n",
      "4                  0.80  \n",
      "5                  0.38  \n",
      "6                  0.98  \n",
      "7                  0.92  \n",
      "8                  0.64  \n",
      "9                  0.42  \n"
     ]
    }
   ],
   "source": [
    "df['words_per_comment'] = df['posts'].apply(lambda x: len(x.split())/50)\n",
    "df['question_per_comment'] = df['posts'].apply(lambda x: x.count('?')/50)\n",
    "df['excl_per_comment'] = df['posts'].apply(lambda x: x.count('!')/50)\n",
    "df['upper_case'] = df['posts'].str.findall(r'[A-Z]').str.len()/50\n",
    "# df['adj'] = df['posts'].str.findall(r'[A-Z]').str.len()/50\n",
    "df[['polarity', 'subjectivity']] = df['posts'].apply(lambda Text: pd.Series(TextBlob(Text).sentiment))\n",
    "# df['emojis'] = df['posts'].str.findall(u'[\\U0001f300-\\U0001f650]|[\\u2000-\\u3000]').str.len()\n",
    "df['ellipsis_per_comment'] = df['posts'].apply(lambda x: x.count('...')/50)\n",
    "\n",
    "print(df.head(10))"
   ]
  },
  {
   "cell_type": "code",
   "execution_count": 7,
   "metadata": {},
   "outputs": [
    {
     "data": {
      "text/html": [
       "<div>\n",
       "<style scoped>\n",
       "    .dataframe tbody tr th:only-of-type {\n",
       "        vertical-align: middle;\n",
       "    }\n",
       "\n",
       "    .dataframe tbody tr th {\n",
       "        vertical-align: top;\n",
       "    }\n",
       "\n",
       "    .dataframe thead th {\n",
       "        text-align: right;\n",
       "    }\n",
       "</style>\n",
       "<table border=\"1\" class=\"dataframe\">\n",
       "  <thead>\n",
       "    <tr style=\"text-align: right;\">\n",
       "      <th></th>\n",
       "      <th>words_per_comment</th>\n",
       "      <th>question_per_comment</th>\n",
       "      <th>excl_per_comment</th>\n",
       "      <th>upper_case</th>\n",
       "      <th>polarity</th>\n",
       "      <th>subjectivity</th>\n",
       "      <th>ellipsis_per_comment</th>\n",
       "    </tr>\n",
       "  </thead>\n",
       "  <tbody>\n",
       "    <tr>\n",
       "      <td>count</td>\n",
       "      <td>8675.000000</td>\n",
       "      <td>8675.000000</td>\n",
       "      <td>8675.000000</td>\n",
       "      <td>8675.000000</td>\n",
       "      <td>8675.000000</td>\n",
       "      <td>8675.000000</td>\n",
       "      <td>8675.000000</td>\n",
       "    </tr>\n",
       "    <tr>\n",
       "      <td>mean</td>\n",
       "      <td>24.524830</td>\n",
       "      <td>0.214619</td>\n",
       "      <td>0.169086</td>\n",
       "      <td>5.642501</td>\n",
       "      <td>0.125152</td>\n",
       "      <td>0.535031</td>\n",
       "      <td>0.662485</td>\n",
       "    </tr>\n",
       "    <tr>\n",
       "      <td>std</td>\n",
       "      <td>6.224211</td>\n",
       "      <td>0.139899</td>\n",
       "      <td>0.232219</td>\n",
       "      <td>1.893284</td>\n",
       "      <td>0.060422</td>\n",
       "      <td>0.045603</td>\n",
       "      <td>0.299458</td>\n",
       "    </tr>\n",
       "    <tr>\n",
       "      <td>min</td>\n",
       "      <td>0.080000</td>\n",
       "      <td>0.000000</td>\n",
       "      <td>0.000000</td>\n",
       "      <td>0.000000</td>\n",
       "      <td>-0.800000</td>\n",
       "      <td>0.000000</td>\n",
       "      <td>0.000000</td>\n",
       "    </tr>\n",
       "    <tr>\n",
       "      <td>25%</td>\n",
       "      <td>20.930000</td>\n",
       "      <td>0.120000</td>\n",
       "      <td>0.040000</td>\n",
       "      <td>4.480000</td>\n",
       "      <td>0.087922</td>\n",
       "      <td>0.505834</td>\n",
       "      <td>0.460000</td>\n",
       "    </tr>\n",
       "    <tr>\n",
       "      <td>50%</td>\n",
       "      <td>25.560000</td>\n",
       "      <td>0.200000</td>\n",
       "      <td>0.100000</td>\n",
       "      <td>5.560000</td>\n",
       "      <td>0.122788</td>\n",
       "      <td>0.533764</td>\n",
       "      <td>0.660000</td>\n",
       "    </tr>\n",
       "    <tr>\n",
       "      <td>75%</td>\n",
       "      <td>29.140000</td>\n",
       "      <td>0.280000</td>\n",
       "      <td>0.220000</td>\n",
       "      <td>6.660000</td>\n",
       "      <td>0.159827</td>\n",
       "      <td>0.562812</td>\n",
       "      <td>0.820000</td>\n",
       "    </tr>\n",
       "    <tr>\n",
       "      <td>max</td>\n",
       "      <td>37.620000</td>\n",
       "      <td>2.420000</td>\n",
       "      <td>4.380000</td>\n",
       "      <td>18.800000</td>\n",
       "      <td>0.558087</td>\n",
       "      <td>1.000000</td>\n",
       "      <td>3.920000</td>\n",
       "    </tr>\n",
       "  </tbody>\n",
       "</table>\n",
       "</div>"
      ],
      "text/plain": [
       "       words_per_comment  question_per_comment  excl_per_comment   upper_case  \\\n",
       "count        8675.000000           8675.000000       8675.000000  8675.000000   \n",
       "mean           24.524830              0.214619          0.169086     5.642501   \n",
       "std             6.224211              0.139899          0.232219     1.893284   \n",
       "min             0.080000              0.000000          0.000000     0.000000   \n",
       "25%            20.930000              0.120000          0.040000     4.480000   \n",
       "50%            25.560000              0.200000          0.100000     5.560000   \n",
       "75%            29.140000              0.280000          0.220000     6.660000   \n",
       "max            37.620000              2.420000          4.380000    18.800000   \n",
       "\n",
       "          polarity  subjectivity  ellipsis_per_comment  \n",
       "count  8675.000000   8675.000000           8675.000000  \n",
       "mean      0.125152      0.535031              0.662485  \n",
       "std       0.060422      0.045603              0.299458  \n",
       "min      -0.800000      0.000000              0.000000  \n",
       "25%       0.087922      0.505834              0.460000  \n",
       "50%       0.122788      0.533764              0.660000  \n",
       "75%       0.159827      0.562812              0.820000  \n",
       "max       0.558087      1.000000              3.920000  "
      ]
     },
     "execution_count": 7,
     "metadata": {},
     "output_type": "execute_result"
    }
   ],
   "source": [
    "df.describe()"
   ]
  },
  {
   "cell_type": "code",
   "execution_count": 8,
   "metadata": {},
   "outputs": [
    {
     "name": "stdout",
     "output_type": "stream",
     "text": [
      "   type                                              posts  words_per_comment  \\\n",
      "0  INTJ  'https://www.youtube.com/watch?v=8IEQpfA528M  ...              22.86   \n",
      "1  INFP  'It's one of my daily 'music doodles', one min...              17.46   \n",
      "2  INFP  'NO. But I have dyscalculia. :X|||I've learned...              13.30   \n",
      "3  ISTP  '288970 It's been a while, guys. Also I bleach...              10.90   \n",
      "4  INFP  '29 and still have it. Never had a girlfriend....              27.98   \n",
      "5  INFJ  'It gets to be pretty obvious the lifestyle di...              20.98   \n",
      "6  INTP  'I used to find this difficult until I realize...              23.80   \n",
      "7  INTJ  '1. ENTJs - Without fail my favorite people.  ...              33.88   \n",
      "8  ENFP  'Can I just say I'm so glad and thankful that ...              26.28   \n",
      "9  ESFP  'No I'm not, you go home!|||Farnsworth: ENTP F...              21.80   \n",
      "\n",
      "   question_per_comment  excl_per_comment  upper_case  polarity  subjectivity  \\\n",
      "0                  0.68              0.00        3.64  0.101422      0.546946   \n",
      "1                  0.30              0.12        4.68  0.067913      0.542686   \n",
      "2                  0.12              0.06        3.68  0.128141      0.579492   \n",
      "3                  0.16              0.26        2.50  0.052717      0.557769   \n",
      "4                  0.16              0.06        4.42  0.046999      0.505684   \n",
      "5                  0.18              0.02        5.44  0.161881      0.531768   \n",
      "6                  0.80              0.40        5.64  0.120509      0.571574   \n",
      "7                  0.04              0.00        7.10  0.110448      0.474402   \n",
      "8                  0.76              0.20        5.98  0.098544      0.615180   \n",
      "9                  0.18              0.02        7.54  0.101305      0.520738   \n",
      "\n",
      "   ellipsis_per_comment  I-E  N-S  T-F  J-P  \n",
      "0                  0.60    0    0    0    0  \n",
      "1                  0.34    0    0    1    1  \n",
      "2                  0.32    0    0    1    1  \n",
      "3                  0.10    0    1    0    1  \n",
      "4                  0.80    0    0    1    1  \n",
      "5                  0.38    0    0    1    0  \n",
      "6                  0.98    0    0    0    1  \n",
      "7                  0.92    0    0    0    0  \n",
      "8                  0.64    1    0    1    1  \n",
      "9                  0.42    1    1    1    1  \n"
     ]
    }
   ],
   "source": [
    "map1 = {\"I\": 0, \"E\": 1}\n",
    "map2 = {\"N\": 0, \"S\": 1}\n",
    "map3 = {\"T\": 0, \"F\": 1}\n",
    "map4 = {\"J\": 0, \"P\": 1}\n",
    "\n",
    "df['I-E'] = df['type'].astype(str).str[0]\n",
    "df['I-E'] = df['I-E'].map(map1)\n",
    "\n",
    "df['N-S'] = df['type'].astype(str).str[1]\n",
    "df['N-S'] = df['N-S'].map(map2)\n",
    "\n",
    "df['T-F'] = df['type'].astype(str).str[2]\n",
    "df['T-F'] = df['T-F'].map(map3)\n",
    "\n",
    "df['J-P'] = df['type'].astype(str).str[3]\n",
    "df['J-P'] = df['J-P'].map(map4)\n",
    "\n",
    "print(df.head(10))"
   ]
  },
  {
   "cell_type": "code",
   "execution_count": 44,
   "metadata": {},
   "outputs": [],
   "source": [
    "from sklearn.model_selection import train_test_split\n",
    "from sklearn.ensemble import RandomForestClassifier\n",
    "from sklearn.metrics import accuracy_score\n",
    "X = df.drop(['type','posts','I-E','N-S','T-F','J-P'], axis=1).values"
   ]
  },
  {
   "cell_type": "code",
   "execution_count": 41,
   "metadata": {},
   "outputs": [],
   "source": [
    "# Introvert vs. Extrovert\n",
    "y = df['I-E'].values\n",
    "X_train,X_test,y_train,y_test = train_test_split(X,y,random_state=45)\n",
    "\n",
    "rf = RandomForestClassifier(n_estimators=200)\n",
    "rf = rf.fit(X_train, y_train)\n"
   ]
  },
  {
   "cell_type": "code",
   "execution_count": 43,
   "metadata": {},
   "outputs": [
    {
     "data": {
      "text/plain": [
       "0.7662517289073306"
      ]
     },
     "execution_count": 43,
     "metadata": {},
     "output_type": "execute_result"
    }
   ],
   "source": [
    "IE = rf.score(X_test, y_test)\n",
    "IE"
   ]
  },
  {
   "cell_type": "code",
   "execution_count": 45,
   "metadata": {},
   "outputs": [],
   "source": [
    "y_predict = rf.predict(X_test)"
   ]
  },
  {
   "cell_type": "code",
   "execution_count": 47,
   "metadata": {},
   "outputs": [
    {
     "data": {
      "text/plain": [
       "0.7662517289073306"
      ]
     },
     "execution_count": 47,
     "metadata": {},
     "output_type": "execute_result"
    }
   ],
   "source": [
    "accuracy_score(y_test,y_predict)"
   ]
  },
  {
   "cell_type": "code",
   "execution_count": 48,
   "metadata": {},
   "outputs": [],
   "source": [
    "#Intuitive vs. Sensing\n",
    "y = df['N-S'].values\n",
    "X_train,X_test,y_train,y_test = train_test_split(X,y,random_state=45)\n",
    "\n",
    "rf = RandomForestClassifier(n_estimators=200)\n",
    "rf = rf.fit(X_train, y_train)"
   ]
  },
  {
   "cell_type": "code",
   "execution_count": 49,
   "metadata": {},
   "outputs": [
    {
     "data": {
      "text/plain": [
       "0.8607653296449977"
      ]
     },
     "execution_count": 49,
     "metadata": {},
     "output_type": "execute_result"
    }
   ],
   "source": [
    "NS = rf.score(X_test, y_test)\n",
    "NS"
   ]
  },
  {
   "cell_type": "code",
   "execution_count": 50,
   "metadata": {},
   "outputs": [],
   "source": [
    "y_predict = rf.predict(X_test)"
   ]
  },
  {
   "cell_type": "code",
   "execution_count": 51,
   "metadata": {},
   "outputs": [
    {
     "data": {
      "text/plain": [
       "0.8607653296449977"
      ]
     },
     "execution_count": 51,
     "metadata": {},
     "output_type": "execute_result"
    }
   ],
   "source": [
    "accuracy_score(y_test,y_predict)"
   ]
  },
  {
   "cell_type": "code",
   "execution_count": 52,
   "metadata": {},
   "outputs": [],
   "source": [
    "# Thinking vs. Feeling\n",
    "y = df['T-F'].values\n",
    "X_train,X_test,y_train,y_test = train_test_split(X,y,random_state=45)\n",
    "\n",
    "rf = RandomForestClassifier(n_estimators=200)\n",
    "rf = rf.fit(X_train, y_train)"
   ]
  },
  {
   "cell_type": "code",
   "execution_count": 53,
   "metadata": {},
   "outputs": [
    {
     "data": {
      "text/plain": [
       "0.6182572614107884"
      ]
     },
     "execution_count": 53,
     "metadata": {},
     "output_type": "execute_result"
    }
   ],
   "source": [
    "TF = rf.score(X_test, y_test)\n",
    "TF"
   ]
  },
  {
   "cell_type": "code",
   "execution_count": 54,
   "metadata": {},
   "outputs": [],
   "source": [
    "y_predict = rf.predict(X_test)"
   ]
  },
  {
   "cell_type": "code",
   "execution_count": 55,
   "metadata": {},
   "outputs": [
    {
     "data": {
      "text/plain": [
       "0.6182572614107884"
      ]
     },
     "execution_count": 55,
     "metadata": {},
     "output_type": "execute_result"
    }
   ],
   "source": [
    "accuracy_score(y_test,y_predict)"
   ]
  },
  {
   "cell_type": "code",
   "execution_count": null,
   "metadata": {},
   "outputs": [],
   "source": [
    "# Judging vs. Perceiving\n",
    "y = df['J-P'].values\n",
    "X_train,X_test,y_train,y_test = train_test_split(X,y,random_state=45)\n",
    "\n",
    "rf = RandomForestClassifier(n_estimators=200)\n",
    "rf = rf.fit(X_train, y_train)"
   ]
  },
  {
   "cell_type": "code",
   "execution_count": 56,
   "metadata": {},
   "outputs": [
    {
     "data": {
      "text/plain": [
       "0.6182572614107884"
      ]
     },
     "execution_count": 56,
     "metadata": {},
     "output_type": "execute_result"
    }
   ],
   "source": [
    "JP = rf.score(X_test, y_test)\n",
    "JP"
   ]
  },
  {
   "cell_type": "code",
   "execution_count": 57,
   "metadata": {},
   "outputs": [],
   "source": [
    "y_predict = rf.predict(X_test)"
   ]
  },
  {
   "cell_type": "code",
   "execution_count": 58,
   "metadata": {},
   "outputs": [
    {
     "data": {
      "text/plain": [
       "0.6182572614107884"
      ]
     },
     "execution_count": 58,
     "metadata": {},
     "output_type": "execute_result"
    }
   ],
   "source": [
    "accuracy_score(y_test,y_predict)"
   ]
  },
  {
   "cell_type": "code",
   "execution_count": 63,
   "metadata": {},
   "outputs": [],
   "source": [
    "df.to_csv('Data/data1.csv', index=False)"
   ]
  },
  {
   "cell_type": "code",
   "execution_count": null,
   "metadata": {},
   "outputs": [],
   "source": []
  }
 ],
 "metadata": {
  "kernelspec": {
   "display_name": "Python 3",
   "language": "python",
   "name": "python3"
  },
  "language_info": {
   "codemirror_mode": {
    "name": "ipython",
    "version": 3
   },
   "file_extension": ".py",
   "mimetype": "text/x-python",
   "name": "python",
   "nbconvert_exporter": "python",
   "pygments_lexer": "ipython3",
   "version": "3.7.4"
  }
 },
 "nbformat": 4,
 "nbformat_minor": 2
}

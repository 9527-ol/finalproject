{
 "cells": [
  {
   "cell_type": "code",
   "execution_count": 1,
   "metadata": {},
   "outputs": [],
   "source": [
    "import pandas as pd\n",
    "import psycopg2"
   ]
  },
  {
   "cell_type": "code",
   "execution_count": 2,
   "metadata": {},
   "outputs": [
    {
     "name": "stdout",
     "output_type": "stream",
     "text": [
      "Requirement already up-to-date: textblob in c:\\users\\hph77\\anaconda3\\lib\\site-packages (0.15.3)\n",
      "Requirement already satisfied, skipping upgrade: nltk>=3.1 in c:\\users\\hph77\\anaconda3\\lib\\site-packages (from textblob) (3.4.5)\n",
      "Requirement already satisfied, skipping upgrade: six in c:\\users\\hph77\\anaconda3\\lib\\site-packages (from nltk>=3.1->textblob) (1.12.0)\n"
     ]
    }
   ],
   "source": [
    "!pip install -U textblob\n",
    "from textblob import TextBlob"
   ]
  },
  {
   "cell_type": "code",
   "execution_count": 3,
   "metadata": {},
   "outputs": [],
   "source": [
    "connection_string = psycopg2.connect(host=\"mypostgresdb.cnm9emj4w74o.us-east-2.rds.amazonaws.com\", port = 5432, database=\"project3\", user=\"rootlh\", password=\"password\")"
   ]
  },
  {
   "cell_type": "code",
   "execution_count": 4,
   "metadata": {},
   "outputs": [
    {
     "data": {
      "text/html": [
       "<div>\n",
       "<style scoped>\n",
       "    .dataframe tbody tr th:only-of-type {\n",
       "        vertical-align: middle;\n",
       "    }\n",
       "\n",
       "    .dataframe tbody tr th {\n",
       "        vertical-align: top;\n",
       "    }\n",
       "\n",
       "    .dataframe thead th {\n",
       "        text-align: right;\n",
       "    }\n",
       "</style>\n",
       "<table border=\"1\" class=\"dataframe\">\n",
       "  <thead>\n",
       "    <tr style=\"text-align: right;\">\n",
       "      <th></th>\n",
       "      <th>type</th>\n",
       "      <th>posts</th>\n",
       "    </tr>\n",
       "  </thead>\n",
       "  <tbody>\n",
       "    <tr>\n",
       "      <td>0</td>\n",
       "      <td>INTJ</td>\n",
       "      <td>'https://www.youtube.com/watch?v=8IEQpfA528M  ...</td>\n",
       "    </tr>\n",
       "    <tr>\n",
       "      <td>1</td>\n",
       "      <td>INFP</td>\n",
       "      <td>'It's one of my daily 'music doodles', one min...</td>\n",
       "    </tr>\n",
       "    <tr>\n",
       "      <td>2</td>\n",
       "      <td>INFP</td>\n",
       "      <td>'NO. But I have dyscalculia. :X|||I've learned...</td>\n",
       "    </tr>\n",
       "    <tr>\n",
       "      <td>3</td>\n",
       "      <td>ISTP</td>\n",
       "      <td>'288970 It's been a while, guys. Also I bleach...</td>\n",
       "    </tr>\n",
       "    <tr>\n",
       "      <td>4</td>\n",
       "      <td>INFP</td>\n",
       "      <td>'29 and still have it. Never had a girlfriend....</td>\n",
       "    </tr>\n",
       "  </tbody>\n",
       "</table>\n",
       "</div>"
      ],
      "text/plain": [
       "   type                                              posts\n",
       "0  INTJ  'https://www.youtube.com/watch?v=8IEQpfA528M  ...\n",
       "1  INFP  'It's one of my daily 'music doodles', one min...\n",
       "2  INFP  'NO. But I have dyscalculia. :X|||I've learned...\n",
       "3  ISTP  '288970 It's been a while, guys. Also I bleach...\n",
       "4  INFP  '29 and still have it. Never had a girlfriend...."
      ]
     },
     "execution_count": 4,
     "metadata": {},
     "output_type": "execute_result"
    }
   ],
   "source": [
    "df = pd.read_sql_query('select * from post_info', con=connection_string)\n",
    "df.head()"
   ]
  },
  {
   "cell_type": "code",
   "execution_count": 5,
   "metadata": {},
   "outputs": [
    {
     "name": "stdout",
     "output_type": "stream",
     "text": [
      "   type                                              posts  words_per_comment  \\\n",
      "0  INTJ  'https://www.youtube.com/watch?v=8IEQpfA528M  ...               1143   \n",
      "1  INFP  'It's one of my daily 'music doodles', one min...                873   \n",
      "2  INFP  'NO. But I have dyscalculia. :X|||I've learned...                665   \n",
      "3  ISTP  '288970 It's been a while, guys. Also I bleach...                545   \n",
      "4  INFP  '29 and still have it. Never had a girlfriend....               1399   \n",
      "5  INFJ  'It gets to be pretty obvious the lifestyle di...               1049   \n",
      "6  INTP  'I used to find this difficult until I realize...               1190   \n",
      "7  INTJ  '1. ENTJs - Without fail my favorite people.  ...               1694   \n",
      "8  ENFP  'Can I just say I'm so glad and thankful that ...               1314   \n",
      "9  ESFP  'No I'm not, you go home!|||Farnsworth: ENTP F...               1090   \n",
      "\n",
      "   question_per_comment  excl_per_comment  upper_case  polarity  subjectivity  \\\n",
      "0                    34                 0         182  0.101422      0.546946   \n",
      "1                    15                 6         234  0.067913      0.542686   \n",
      "2                     6                 3         184  0.128141      0.579492   \n",
      "3                     8                13         125  0.052717      0.557769   \n",
      "4                     8                 3         221  0.046999      0.505684   \n",
      "5                     9                 1         272  0.161881      0.531768   \n",
      "6                    40                20         282  0.120509      0.571574   \n",
      "7                     2                 0         355  0.110448      0.474402   \n",
      "8                    38                10         299  0.098544      0.615180   \n",
      "9                     9                 1         377  0.101305      0.520738   \n",
      "\n",
      "   emojis  ellipsis_per_comment  \n",
      "0       3                    30  \n",
      "1       0                    17  \n",
      "2       0                    16  \n",
      "3       0                     5  \n",
      "4       0                    40  \n",
      "5       0                    19  \n",
      "6       0                    49  \n",
      "7       0                    46  \n",
      "8       0                    32  \n",
      "9       0                    21  \n"
     ]
    }
   ],
   "source": [
    "df['words_per_comment'] = df['posts'].apply(lambda x: len(x.split()))\n",
    "df['question_per_comment'] = df['posts'].apply(lambda x: x.count('?'))\n",
    "df['excl_per_comment'] = df['posts'].apply(lambda x: x.count('!'))\n",
    "df['upper_case'] = df['posts'].str.findall(r'[A-Z]').str.len()\n",
    "df[['polarity', 'subjectivity']] = df['posts'].apply(lambda Text: pd.Series(TextBlob(Text).sentiment))\n",
    "df['emojis'] = df['posts'].str.findall(u'[\\U0001f300-\\U0001f650]|[\\u2000-\\u3000]').str.len()\n",
    "df['ellipsis_per_comment'] = df['posts'].apply(lambda x: x.count('...'))\n",
    "\n",
    "print(df.head(10))"
   ]
  },
  {
   "cell_type": "code",
   "execution_count": 6,
   "metadata": {},
   "outputs": [
    {
     "name": "stdout",
     "output_type": "stream",
     "text": [
      "   type                                              posts  words_per_comment  \\\n",
      "0  INTJ  'https://www.youtube.com/watch?v=8IEQpfA528M  ...               1143   \n",
      "1  INFP  'It's one of my daily 'music doodles', one min...                873   \n",
      "2  INFP  'NO. But I have dyscalculia. :X|||I've learned...                665   \n",
      "3  ISTP  '288970 It's been a while, guys. Also I bleach...                545   \n",
      "4  INFP  '29 and still have it. Never had a girlfriend....               1399   \n",
      "5  INFJ  'It gets to be pretty obvious the lifestyle di...               1049   \n",
      "6  INTP  'I used to find this difficult until I realize...               1190   \n",
      "7  INTJ  '1. ENTJs - Without fail my favorite people.  ...               1694   \n",
      "8  ENFP  'Can I just say I'm so glad and thankful that ...               1314   \n",
      "9  ESFP  'No I'm not, you go home!|||Farnsworth: ENTP F...               1090   \n",
      "\n",
      "   question_per_comment  excl_per_comment  upper_case  polarity  subjectivity  \\\n",
      "0                    34                 0         182  0.101422      0.546946   \n",
      "1                    15                 6         234  0.067913      0.542686   \n",
      "2                     6                 3         184  0.128141      0.579492   \n",
      "3                     8                13         125  0.052717      0.557769   \n",
      "4                     8                 3         221  0.046999      0.505684   \n",
      "5                     9                 1         272  0.161881      0.531768   \n",
      "6                    40                20         282  0.120509      0.571574   \n",
      "7                     2                 0         355  0.110448      0.474402   \n",
      "8                    38                10         299  0.098544      0.615180   \n",
      "9                     9                 1         377  0.101305      0.520738   \n",
      "\n",
      "   emojis  ellipsis_per_comment  I-E  N-S  T-F  J-P  \n",
      "0       3                    30    0    0    0    0  \n",
      "1       0                    17    0    0    1    1  \n",
      "2       0                    16    0    0    1    1  \n",
      "3       0                     5    0    1    0    1  \n",
      "4       0                    40    0    0    1    1  \n",
      "5       0                    19    0    0    1    0  \n",
      "6       0                    49    0    0    0    1  \n",
      "7       0                    46    0    0    0    0  \n",
      "8       0                    32    1    0    1    1  \n",
      "9       0                    21    1    1    1    1  \n"
     ]
    }
   ],
   "source": [
    "map1 = {\"I\": 0, \"E\": 1}\n",
    "map2 = {\"N\": 0, \"S\": 1}\n",
    "map3 = {\"T\": 0, \"F\": 1}\n",
    "map4 = {\"J\": 0, \"P\": 1}\n",
    "\n",
    "df['I-E'] = df['type'].astype(str).str[0]\n",
    "df['I-E'] = df['I-E'].map(map1)\n",
    "\n",
    "df['N-S'] = df['type'].astype(str).str[1]\n",
    "df['N-S'] = df['N-S'].map(map2)\n",
    "\n",
    "df['T-F'] = df['type'].astype(str).str[2]\n",
    "df['T-F'] = df['T-F'].map(map3)\n",
    "\n",
    "df['J-P'] = df['type'].astype(str).str[3]\n",
    "df['J-P'] = df['J-P'].map(map4)\n",
    "\n",
    "print(df.head(10))"
   ]
  },
  {
   "cell_type": "code",
   "execution_count": 7,
   "metadata": {},
   "outputs": [
    {
     "name": "stdout",
     "output_type": "stream",
     "text": [
      "(8675,)\n",
      "(8675, 8)\n"
     ]
    }
   ],
   "source": [
    "X = df.drop(['type','posts','I-E','N-S','T-F','J-P'], axis=1).values\n",
    "y = df['type'].values\n",
    "\n",
    "print(y.shape)\n",
    "print(X.shape)"
   ]
  },
  {
   "cell_type": "code",
   "execution_count": 8,
   "metadata": {},
   "outputs": [],
   "source": [
    "from sklearn.model_selection import train_test_split\n",
    "X_train, X_test, y_train, y_test = train_test_split(X, y, test_size =0.1, random_state=42)"
   ]
  },
  {
   "cell_type": "code",
   "execution_count": 9,
   "metadata": {},
   "outputs": [
    {
     "data": {
      "text/plain": [
       "SVC(C=1.0, cache_size=200, class_weight=None, coef0=0.0,\n",
       "    decision_function_shape='ovr', degree=3, gamma='auto', kernel='sigmoid',\n",
       "    max_iter=-1, probability=False, random_state=None, shrinking=True,\n",
       "    tol=0.001, verbose=False)"
      ]
     },
     "execution_count": 9,
     "metadata": {},
     "output_type": "execute_result"
    }
   ],
   "source": [
    "from sklearn.svm import SVC \n",
    "model = SVC(kernel='sigmoid',gamma='auto')\n",
    "model.fit(X_train, y_train)"
   ]
  },
  {
   "cell_type": "code",
   "execution_count": 10,
   "metadata": {},
   "outputs": [
    {
     "name": "stdout",
     "output_type": "stream",
     "text": [
      "Test Acc: 0.220\n"
     ]
    }
   ],
   "source": [
    "# Model Accuracy with sigmoid\n",
    "print('Test Acc: %.3f' % model.score(X_test, y_test))"
   ]
  },
  {
   "cell_type": "code",
   "execution_count": 11,
   "metadata": {},
   "outputs": [
    {
     "data": {
      "text/plain": [
       "SVC(C=1.0, cache_size=200, class_weight=None, coef0=0.0,\n",
       "    decision_function_shape='ovr', degree=3, gamma='scale', kernel='rbf',\n",
       "    max_iter=-1, probability=False, random_state=None, shrinking=True,\n",
       "    tol=0.001, verbose=False)"
      ]
     },
     "execution_count": 11,
     "metadata": {},
     "output_type": "execute_result"
    }
   ],
   "source": [
    "X_train, X_test, y_train, y_test = train_test_split(X, y, test_size = 0.1, random_state=42)\n",
    "model = SVC(kernel='rbf',gamma='scale')\n",
    "model.fit(X_train, y_train)"
   ]
  },
  {
   "cell_type": "code",
   "execution_count": 12,
   "metadata": {},
   "outputs": [
    {
     "name": "stdout",
     "output_type": "stream",
     "text": [
      "Test Acc: 0.220\n"
     ]
    }
   ],
   "source": [
    "# Model Accuracy with rbf\n",
    "print('Test Acc: %.3f' % model.score(X_test, y_test))"
   ]
  },
  {
   "cell_type": "code",
   "execution_count": 13,
   "metadata": {},
   "outputs": [
    {
     "name": "stdout",
     "output_type": "stream",
     "text": [
      "              precision    recall  f1-score   support\n",
      "\n",
      "        ENFJ       0.00      0.00      0.00        18\n",
      "        ENFP       0.00      0.00      0.00        52\n",
      "        ENTJ       0.00      0.00      0.00        23\n",
      "        ENTP       0.00      0.00      0.00        64\n",
      "        ESFJ       0.00      0.00      0.00         6\n",
      "        ESFP       0.00      0.00      0.00         3\n",
      "        ESTJ       0.00      0.00      0.00         3\n",
      "        ESTP       0.00      0.00      0.00        14\n",
      "        INFJ       0.00      0.00      0.00       158\n",
      "        INFP       0.22      1.00      0.36       191\n",
      "        INTJ       0.00      0.00      0.00       106\n",
      "        INTP       0.00      0.00      0.00       131\n",
      "        ISFJ       0.00      0.00      0.00        19\n",
      "        ISFP       0.00      0.00      0.00        21\n",
      "        ISTJ       0.00      0.00      0.00        21\n",
      "        ISTP       0.00      0.00      0.00        38\n",
      "\n",
      "    accuracy                           0.22       868\n",
      "   macro avg       0.01      0.06      0.02       868\n",
      "weighted avg       0.05      0.22      0.08       868\n",
      "\n"
     ]
    },
    {
     "name": "stderr",
     "output_type": "stream",
     "text": [
      "C:\\Users\\hph77\\Anaconda3\\lib\\site-packages\\sklearn\\metrics\\classification.py:1437: UndefinedMetricWarning: Precision and F-score are ill-defined and being set to 0.0 in labels with no predicted samples.\n",
      "  'precision', 'predicted', average, warn_for)\n"
     ]
    }
   ],
   "source": [
    "# Calculate classification report\n",
    "from sklearn.metrics import classification_report\n",
    "predictions = model.predict(X_test)\n",
    "print(classification_report(y_test, predictions))"
   ]
  },
  {
   "cell_type": "code",
   "execution_count": 14,
   "metadata": {},
   "outputs": [
    {
     "name": "stdout",
     "output_type": "stream",
     "text": [
      "Test Acc: 0.789\n"
     ]
    }
   ],
   "source": [
    "# Introverts vs. Extroverts\n",
    "y = df['I-E'].values\n",
    "X_train, X_test, y_train, y_test = train_test_split(X, y, test_size = 0.1, random_state=42)\n",
    "\n",
    "model = SVC(kernel='sigmoid',gamma='auto')\n",
    "model.fit(X_train, y_train)\n",
    "\n",
    "print('Test Acc: %.3f' % model.score(X_test, y_test))"
   ]
  },
  {
   "cell_type": "code",
   "execution_count": 15,
   "metadata": {},
   "outputs": [
    {
     "name": "stdout",
     "output_type": "stream",
     "text": [
      "Test Acc: 0.856\n"
     ]
    }
   ],
   "source": [
    "# Intuitives vs. Sensors\n",
    "y = df['N-S'].values\n",
    "X_train, X_test, y_train, y_test = train_test_split(X, y, test_size = 0.1, random_state=42)\n",
    "\n",
    "model = SVC(kernel='sigmoid',gamma='auto')\n",
    "model.fit(X_train, y_train)\n",
    "\n",
    "print('Test Acc: %.3f' % model.score(X_test, y_test))"
   ]
  },
  {
   "cell_type": "code",
   "execution_count": 16,
   "metadata": {},
   "outputs": [
    {
     "name": "stdout",
     "output_type": "stream",
     "text": [
      "Test Acc: 0.539\n"
     ]
    }
   ],
   "source": [
    "# Thinkers vs. Feelers\n",
    "y = df['T-F'].values\n",
    "X_train, X_test, y_train, y_test = train_test_split(X, y, test_size = 0.1, random_state=42)\n",
    "\n",
    "model = SVC(kernel='sigmoid',gamma='auto')\n",
    "model.fit(X_train, y_train)\n",
    "\n",
    "print('Test Acc: %.3f' % model.score(X_test, y_test))"
   ]
  },
  {
   "cell_type": "code",
   "execution_count": 17,
   "metadata": {},
   "outputs": [
    {
     "name": "stdout",
     "output_type": "stream",
     "text": [
      "Test Acc: 0.592\n"
     ]
    }
   ],
   "source": [
    "# Judgers vs. Perceivers\n",
    "y = df['J-P'].values\n",
    "X_train, X_test, y_train, y_test = train_test_split(X, y, test_size = 0.1, random_state=42)\n",
    "\n",
    "model = SVC(kernel='sigmoid',gamma='auto')\n",
    "model.fit(X_train, y_train)\n",
    "\n",
    "print('Test Acc: %.3f' % model.score(X_test, y_test))"
   ]
  }
 ],
 "metadata": {
  "kernelspec": {
   "display_name": "Python 3",
   "language": "python",
   "name": "python3"
  },
  "language_info": {
   "codemirror_mode": {
    "name": "ipython",
    "version": 3
   },
   "file_extension": ".py",
   "mimetype": "text/x-python",
   "name": "python",
   "nbconvert_exporter": "python",
   "pygments_lexer": "ipython3",
   "version": "3.7.4"
  }
 },
 "nbformat": 4,
 "nbformat_minor": 2
}

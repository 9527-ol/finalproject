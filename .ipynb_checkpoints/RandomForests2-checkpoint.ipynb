{
 "cells": [
  {
   "cell_type": "code",
   "execution_count": 1,
   "metadata": {},
   "outputs": [],
   "source": [
    "import pandas as pd\n",
    "import psycopg2"
   ]
  },
  {
   "cell_type": "code",
   "execution_count": 2,
   "metadata": {},
   "outputs": [
    {
     "name": "stdout",
     "output_type": "stream",
     "text": [
      "Requirement already up-to-date: textblob in c:\\users\\shiba\\anaconda3\\lib\\site-packages (0.15.3)\n",
      "Requirement already satisfied, skipping upgrade: nltk>=3.1 in c:\\users\\shiba\\anaconda3\\lib\\site-packages (from textblob) (3.4.5)\n",
      "Requirement already satisfied, skipping upgrade: six in c:\\users\\shiba\\anaconda3\\lib\\site-packages (from nltk>=3.1->textblob) (1.12.0)\n"
     ]
    }
   ],
   "source": [
    "!pip install -U textblob\n",
    "from textblob import TextBlob"
   ]
  },
  {
   "cell_type": "code",
   "execution_count": 3,
   "metadata": {},
   "outputs": [],
   "source": [
    "connection_string = psycopg2.connect(host=\"mypostgresdb.cnm9emj4w74o.us-east-2.rds.amazonaws.com\", port = 5432, database=\"project3\", user=\"rootlh\", password=\"password\")"
   ]
  },
  {
   "cell_type": "code",
   "execution_count": 4,
   "metadata": {},
   "outputs": [
    {
     "data": {
      "text/html": [
       "<div>\n",
       "<style scoped>\n",
       "    .dataframe tbody tr th:only-of-type {\n",
       "        vertical-align: middle;\n",
       "    }\n",
       "\n",
       "    .dataframe tbody tr th {\n",
       "        vertical-align: top;\n",
       "    }\n",
       "\n",
       "    .dataframe thead th {\n",
       "        text-align: right;\n",
       "    }\n",
       "</style>\n",
       "<table border=\"1\" class=\"dataframe\">\n",
       "  <thead>\n",
       "    <tr style=\"text-align: right;\">\n",
       "      <th></th>\n",
       "      <th>type</th>\n",
       "      <th>posts</th>\n",
       "    </tr>\n",
       "  </thead>\n",
       "  <tbody>\n",
       "    <tr>\n",
       "      <td>0</td>\n",
       "      <td>INTJ</td>\n",
       "      <td>'https://www.youtube.com/watch?v=8IEQpfA528M  ...</td>\n",
       "    </tr>\n",
       "    <tr>\n",
       "      <td>1</td>\n",
       "      <td>INFP</td>\n",
       "      <td>'It's one of my daily 'music doodles', one min...</td>\n",
       "    </tr>\n",
       "    <tr>\n",
       "      <td>2</td>\n",
       "      <td>INFP</td>\n",
       "      <td>'NO. But I have dyscalculia. :X|||I've learned...</td>\n",
       "    </tr>\n",
       "    <tr>\n",
       "      <td>3</td>\n",
       "      <td>ISTP</td>\n",
       "      <td>'288970 It's been a while, guys. Also I bleach...</td>\n",
       "    </tr>\n",
       "    <tr>\n",
       "      <td>4</td>\n",
       "      <td>INFP</td>\n",
       "      <td>'29 and still have it. Never had a girlfriend....</td>\n",
       "    </tr>\n",
       "  </tbody>\n",
       "</table>\n",
       "</div>"
      ],
      "text/plain": [
       "   type                                              posts\n",
       "0  INTJ  'https://www.youtube.com/watch?v=8IEQpfA528M  ...\n",
       "1  INFP  'It's one of my daily 'music doodles', one min...\n",
       "2  INFP  'NO. But I have dyscalculia. :X|||I've learned...\n",
       "3  ISTP  '288970 It's been a while, guys. Also I bleach...\n",
       "4  INFP  '29 and still have it. Never had a girlfriend...."
      ]
     },
     "execution_count": 4,
     "metadata": {},
     "output_type": "execute_result"
    }
   ],
   "source": [
    "df = pd.read_sql_query('select * from post_info', con=connection_string)\n",
    "df.head()"
   ]
  },
  {
   "cell_type": "code",
   "execution_count": 30,
   "metadata": {},
   "outputs": [
    {
     "name": "stdout",
     "output_type": "stream",
     "text": [
      "   type                                              posts  words_per_comment  \\\n",
      "0  INTJ  'https://www.youtube.com/watch?v=8IEQpfA528M  ...               1143   \n",
      "1  INFP  'It's one of my daily 'music doodles', one min...                873   \n",
      "2  INFP  'NO. But I have dyscalculia. :X|||I've learned...                665   \n",
      "3  ISTP  '288970 It's been a while, guys. Also I bleach...                545   \n",
      "4  INFP  '29 and still have it. Never had a girlfriend....               1399   \n",
      "5  INFJ  'It gets to be pretty obvious the lifestyle di...               1049   \n",
      "6  INTP  'I used to find this difficult until I realize...               1190   \n",
      "7  INTJ  '1. ENTJs - Without fail my favorite people.  ...               1694   \n",
      "8  ENFP  'Can I just say I'm so glad and thankful that ...               1314   \n",
      "9  ESFP  'No I'm not, you go home!|||Farnsworth: ENTP F...               1090   \n",
      "\n",
      "   question_per_comment  excl_per_comment  upper_case  polarity  subjectivity  \\\n",
      "0                    34                 0         182  0.101422      0.546946   \n",
      "1                    15                 6         234  0.067913      0.542686   \n",
      "2                     6                 3         184  0.128141      0.579492   \n",
      "3                     8                13         125  0.052717      0.557769   \n",
      "4                     8                 3         221  0.046999      0.505684   \n",
      "5                     9                 1         272  0.161881      0.531768   \n",
      "6                    40                20         282  0.120509      0.571574   \n",
      "7                     2                 0         355  0.110448      0.474402   \n",
      "8                    38                10         299  0.098544      0.615180   \n",
      "9                     9                 1         377  0.101305      0.520738   \n",
      "\n",
      "   emojis  ellipsis_per_comment  I-E  N-S  T-F  J-P  \n",
      "0       3                    30    0    0    0    0  \n",
      "1       0                    17    0    0    1    1  \n",
      "2       0                    16    0    0    1    1  \n",
      "3       0                     5    0    1    0    1  \n",
      "4       0                    40    0    0    1    1  \n",
      "5       0                    19    0    0    1    0  \n",
      "6       0                    49    0    0    0    1  \n",
      "7       0                    46    0    0    0    0  \n",
      "8       0                    32    1    0    1    1  \n",
      "9       0                    21    1    1    1    1  \n"
     ]
    }
   ],
   "source": [
    "df['words_per_comment'] = df['posts'].apply(lambda x: len(x.split()))\n",
    "df['question_per_comment'] = df['posts'].apply(lambda x: x.count('?'))\n",
    "df['excl_per_comment'] = df['posts'].apply(lambda x: x.count('!'))\n",
    "df['upper_case'] = df['posts'].str.findall(r'[A-Z]').str.len()\n",
    "df[['polarity', 'subjectivity']] = df['posts'].apply(lambda Text: pd.Series(TextBlob(Text).sentiment))\n",
    "df['emojis'] = df['posts'].str.findall(u'[\\U0001f300-\\U0001f650]|[\\u2000-\\u3000]').str.len()\n",
    "df['ellipsis_per_comment'] = df['posts'].apply(lambda x: x.count('...'))\n",
    "\n",
    "print(df.head(10))"
   ]
  },
  {
   "cell_type": "code",
   "execution_count": 31,
   "metadata": {},
   "outputs": [
    {
     "data": {
      "text/html": [
       "<div>\n",
       "<style scoped>\n",
       "    .dataframe tbody tr th:only-of-type {\n",
       "        vertical-align: middle;\n",
       "    }\n",
       "\n",
       "    .dataframe tbody tr th {\n",
       "        vertical-align: top;\n",
       "    }\n",
       "\n",
       "    .dataframe thead th {\n",
       "        text-align: right;\n",
       "    }\n",
       "</style>\n",
       "<table border=\"1\" class=\"dataframe\">\n",
       "  <thead>\n",
       "    <tr style=\"text-align: right;\">\n",
       "      <th></th>\n",
       "      <th>words_per_comment</th>\n",
       "      <th>question_per_comment</th>\n",
       "      <th>excl_per_comment</th>\n",
       "      <th>upper_case</th>\n",
       "      <th>polarity</th>\n",
       "      <th>subjectivity</th>\n",
       "      <th>emojis</th>\n",
       "      <th>ellipsis_per_comment</th>\n",
       "      <th>I-E</th>\n",
       "      <th>N-S</th>\n",
       "      <th>T-F</th>\n",
       "      <th>J-P</th>\n",
       "    </tr>\n",
       "  </thead>\n",
       "  <tbody>\n",
       "    <tr>\n",
       "      <td>count</td>\n",
       "      <td>8675.000000</td>\n",
       "      <td>8675.000000</td>\n",
       "      <td>8675.000000</td>\n",
       "      <td>8675.000000</td>\n",
       "      <td>8675.000000</td>\n",
       "      <td>8675.000000</td>\n",
       "      <td>8675.000000</td>\n",
       "      <td>8675.000000</td>\n",
       "      <td>8675.000000</td>\n",
       "      <td>8675.000000</td>\n",
       "      <td>8675.000000</td>\n",
       "      <td>8675.000000</td>\n",
       "    </tr>\n",
       "    <tr>\n",
       "      <td>mean</td>\n",
       "      <td>1226.241499</td>\n",
       "      <td>10.730951</td>\n",
       "      <td>8.454294</td>\n",
       "      <td>282.125072</td>\n",
       "      <td>0.125152</td>\n",
       "      <td>0.535031</td>\n",
       "      <td>0.462594</td>\n",
       "      <td>33.124265</td>\n",
       "      <td>0.230432</td>\n",
       "      <td>0.137983</td>\n",
       "      <td>0.541095</td>\n",
       "      <td>0.604150</td>\n",
       "    </tr>\n",
       "    <tr>\n",
       "      <td>std</td>\n",
       "      <td>311.210544</td>\n",
       "      <td>6.994926</td>\n",
       "      <td>11.610943</td>\n",
       "      <td>94.664190</td>\n",
       "      <td>0.060422</td>\n",
       "      <td>0.045603</td>\n",
       "      <td>2.723027</td>\n",
       "      <td>14.972922</td>\n",
       "      <td>0.421134</td>\n",
       "      <td>0.344902</td>\n",
       "      <td>0.498337</td>\n",
       "      <td>0.489061</td>\n",
       "    </tr>\n",
       "    <tr>\n",
       "      <td>min</td>\n",
       "      <td>4.000000</td>\n",
       "      <td>0.000000</td>\n",
       "      <td>0.000000</td>\n",
       "      <td>0.000000</td>\n",
       "      <td>-0.800000</td>\n",
       "      <td>0.000000</td>\n",
       "      <td>0.000000</td>\n",
       "      <td>0.000000</td>\n",
       "      <td>0.000000</td>\n",
       "      <td>0.000000</td>\n",
       "      <td>0.000000</td>\n",
       "      <td>0.000000</td>\n",
       "    </tr>\n",
       "    <tr>\n",
       "      <td>25%</td>\n",
       "      <td>1046.500000</td>\n",
       "      <td>6.000000</td>\n",
       "      <td>2.000000</td>\n",
       "      <td>224.000000</td>\n",
       "      <td>0.087922</td>\n",
       "      <td>0.505834</td>\n",
       "      <td>0.000000</td>\n",
       "      <td>23.000000</td>\n",
       "      <td>0.000000</td>\n",
       "      <td>0.000000</td>\n",
       "      <td>0.000000</td>\n",
       "      <td>0.000000</td>\n",
       "    </tr>\n",
       "    <tr>\n",
       "      <td>50%</td>\n",
       "      <td>1278.000000</td>\n",
       "      <td>10.000000</td>\n",
       "      <td>5.000000</td>\n",
       "      <td>278.000000</td>\n",
       "      <td>0.122788</td>\n",
       "      <td>0.533764</td>\n",
       "      <td>0.000000</td>\n",
       "      <td>33.000000</td>\n",
       "      <td>0.000000</td>\n",
       "      <td>0.000000</td>\n",
       "      <td>1.000000</td>\n",
       "      <td>1.000000</td>\n",
       "    </tr>\n",
       "    <tr>\n",
       "      <td>75%</td>\n",
       "      <td>1457.000000</td>\n",
       "      <td>14.000000</td>\n",
       "      <td>11.000000</td>\n",
       "      <td>333.000000</td>\n",
       "      <td>0.159827</td>\n",
       "      <td>0.562812</td>\n",
       "      <td>0.000000</td>\n",
       "      <td>41.000000</td>\n",
       "      <td>0.000000</td>\n",
       "      <td>0.000000</td>\n",
       "      <td>1.000000</td>\n",
       "      <td>1.000000</td>\n",
       "    </tr>\n",
       "    <tr>\n",
       "      <td>max</td>\n",
       "      <td>1881.000000</td>\n",
       "      <td>121.000000</td>\n",
       "      <td>219.000000</td>\n",
       "      <td>940.000000</td>\n",
       "      <td>0.558087</td>\n",
       "      <td>1.000000</td>\n",
       "      <td>96.000000</td>\n",
       "      <td>196.000000</td>\n",
       "      <td>1.000000</td>\n",
       "      <td>1.000000</td>\n",
       "      <td>1.000000</td>\n",
       "      <td>1.000000</td>\n",
       "    </tr>\n",
       "  </tbody>\n",
       "</table>\n",
       "</div>"
      ],
      "text/plain": [
       "       words_per_comment  question_per_comment  excl_per_comment   upper_case  \\\n",
       "count        8675.000000           8675.000000       8675.000000  8675.000000   \n",
       "mean         1226.241499             10.730951          8.454294   282.125072   \n",
       "std           311.210544              6.994926         11.610943    94.664190   \n",
       "min             4.000000              0.000000          0.000000     0.000000   \n",
       "25%          1046.500000              6.000000          2.000000   224.000000   \n",
       "50%          1278.000000             10.000000          5.000000   278.000000   \n",
       "75%          1457.000000             14.000000         11.000000   333.000000   \n",
       "max          1881.000000            121.000000        219.000000   940.000000   \n",
       "\n",
       "          polarity  subjectivity       emojis  ellipsis_per_comment  \\\n",
       "count  8675.000000   8675.000000  8675.000000           8675.000000   \n",
       "mean      0.125152      0.535031     0.462594             33.124265   \n",
       "std       0.060422      0.045603     2.723027             14.972922   \n",
       "min      -0.800000      0.000000     0.000000              0.000000   \n",
       "25%       0.087922      0.505834     0.000000             23.000000   \n",
       "50%       0.122788      0.533764     0.000000             33.000000   \n",
       "75%       0.159827      0.562812     0.000000             41.000000   \n",
       "max       0.558087      1.000000    96.000000            196.000000   \n",
       "\n",
       "               I-E          N-S          T-F          J-P  \n",
       "count  8675.000000  8675.000000  8675.000000  8675.000000  \n",
       "mean      0.230432     0.137983     0.541095     0.604150  \n",
       "std       0.421134     0.344902     0.498337     0.489061  \n",
       "min       0.000000     0.000000     0.000000     0.000000  \n",
       "25%       0.000000     0.000000     0.000000     0.000000  \n",
       "50%       0.000000     0.000000     1.000000     1.000000  \n",
       "75%       0.000000     0.000000     1.000000     1.000000  \n",
       "max       1.000000     1.000000     1.000000     1.000000  "
      ]
     },
     "execution_count": 31,
     "metadata": {},
     "output_type": "execute_result"
    }
   ],
   "source": [
    "df.describe()"
   ]
  },
  {
   "cell_type": "code",
   "execution_count": 32,
   "metadata": {},
   "outputs": [
    {
     "name": "stdout",
     "output_type": "stream",
     "text": [
      "   type                                              posts  words_per_comment  \\\n",
      "0  INTJ  'https://www.youtube.com/watch?v=8IEQpfA528M  ...               1143   \n",
      "1  INFP  'It's one of my daily 'music doodles', one min...                873   \n",
      "2  INFP  'NO. But I have dyscalculia. :X|||I've learned...                665   \n",
      "3  ISTP  '288970 It's been a while, guys. Also I bleach...                545   \n",
      "4  INFP  '29 and still have it. Never had a girlfriend....               1399   \n",
      "5  INFJ  'It gets to be pretty obvious the lifestyle di...               1049   \n",
      "6  INTP  'I used to find this difficult until I realize...               1190   \n",
      "7  INTJ  '1. ENTJs - Without fail my favorite people.  ...               1694   \n",
      "8  ENFP  'Can I just say I'm so glad and thankful that ...               1314   \n",
      "9  ESFP  'No I'm not, you go home!|||Farnsworth: ENTP F...               1090   \n",
      "\n",
      "   question_per_comment  excl_per_comment  upper_case  polarity  subjectivity  \\\n",
      "0                    34                 0         182  0.101422      0.546946   \n",
      "1                    15                 6         234  0.067913      0.542686   \n",
      "2                     6                 3         184  0.128141      0.579492   \n",
      "3                     8                13         125  0.052717      0.557769   \n",
      "4                     8                 3         221  0.046999      0.505684   \n",
      "5                     9                 1         272  0.161881      0.531768   \n",
      "6                    40                20         282  0.120509      0.571574   \n",
      "7                     2                 0         355  0.110448      0.474402   \n",
      "8                    38                10         299  0.098544      0.615180   \n",
      "9                     9                 1         377  0.101305      0.520738   \n",
      "\n",
      "   emojis  ellipsis_per_comment  I-E  N-S  T-F  J-P  \n",
      "0       3                    30    0    0    0    0  \n",
      "1       0                    17    0    0    1    1  \n",
      "2       0                    16    0    0    1    1  \n",
      "3       0                     5    0    1    0    1  \n",
      "4       0                    40    0    0    1    1  \n",
      "5       0                    19    0    0    1    0  \n",
      "6       0                    49    0    0    0    1  \n",
      "7       0                    46    0    0    0    0  \n",
      "8       0                    32    1    0    1    1  \n",
      "9       0                    21    1    1    1    1  \n"
     ]
    }
   ],
   "source": [
    "map1 = {\"I\": 0, \"E\": 1}\n",
    "map2 = {\"N\": 0, \"S\": 1}\n",
    "map3 = {\"T\": 0, \"F\": 1}\n",
    "map4 = {\"J\": 0, \"P\": 1}\n",
    "\n",
    "df['I-E'] = df['type'].astype(str).str[0]\n",
    "df['I-E'] = df['I-E'].map(map1)\n",
    "\n",
    "df['N-S'] = df['type'].astype(str).str[1]\n",
    "df['N-S'] = df['N-S'].map(map2)\n",
    "\n",
    "df['T-F'] = df['type'].astype(str).str[2]\n",
    "df['T-F'] = df['T-F'].map(map3)\n",
    "\n",
    "df['J-P'] = df['type'].astype(str).str[3]\n",
    "df['J-P'] = df['J-P'].map(map4)\n",
    "\n",
    "print(df.head(10))"
   ]
  },
  {
   "cell_type": "code",
   "execution_count": 33,
   "metadata": {},
   "outputs": [],
   "source": [
    "from sklearn.model_selection import train_test_split\n",
    "from sklearn.ensemble import RandomForestClassifier\n",
    "from sklearn.metrics import accuracy_score"
   ]
  },
  {
   "cell_type": "code",
   "execution_count": 34,
   "metadata": {},
   "outputs": [],
   "source": [
    "X = df.drop(['type','posts','I-E','N-S','T-F','J-P'], axis=1).values"
   ]
  },
  {
   "cell_type": "code",
   "execution_count": 35,
   "metadata": {},
   "outputs": [],
   "source": [
    "#Introvert vs. Extrovert\n",
    "y = df['I-E'].values\n",
    "X_train,X_test,y_train,y_test = train_test_split(X,y,random_state=45)\n",
    "\n",
    "rf = RandomForestClassifier(n_estimators=200)\n",
    "rf = rf.fit(X_train, y_train)"
   ]
  },
  {
   "cell_type": "code",
   "execution_count": 36,
   "metadata": {},
   "outputs": [
    {
     "data": {
      "text/plain": [
       "0.7639465191332411"
      ]
     },
     "execution_count": 36,
     "metadata": {},
     "output_type": "execute_result"
    }
   ],
   "source": [
    "IE = rf.score(X_test, y_test)\n",
    "IE"
   ]
  },
  {
   "cell_type": "code",
   "execution_count": 37,
   "metadata": {},
   "outputs": [],
   "source": [
    "y_predict = rf.predict(X_test)"
   ]
  },
  {
   "cell_type": "code",
   "execution_count": 38,
   "metadata": {},
   "outputs": [
    {
     "data": {
      "text/plain": [
       "0.7639465191332411"
      ]
     },
     "execution_count": 38,
     "metadata": {},
     "output_type": "execute_result"
    }
   ],
   "source": [
    "accuracy_score(y_test,y_predict)"
   ]
  },
  {
   "cell_type": "code",
   "execution_count": 39,
   "metadata": {},
   "outputs": [],
   "source": [
    "# Intuitives vs. Sensors\n",
    "y = df['N-S'].values\n",
    "X_train,X_test,y_train,y_test = train_test_split(X,y,random_state=45)\n",
    "\n",
    "rf = RandomForestClassifier(n_estimators=200)\n",
    "rf = rf.fit(X_train, y_train)"
   ]
  },
  {
   "cell_type": "code",
   "execution_count": 40,
   "metadata": {},
   "outputs": [
    {
     "data": {
      "text/plain": [
       "0.859843245735362"
      ]
     },
     "execution_count": 40,
     "metadata": {},
     "output_type": "execute_result"
    }
   ],
   "source": [
    "NS = rf.score(X_test, y_test)\n",
    "NS"
   ]
  },
  {
   "cell_type": "code",
   "execution_count": 41,
   "metadata": {},
   "outputs": [],
   "source": [
    "y_predict = rf.predict(X_test)"
   ]
  },
  {
   "cell_type": "code",
   "execution_count": 42,
   "metadata": {},
   "outputs": [
    {
     "data": {
      "text/plain": [
       "0.859843245735362"
      ]
     },
     "execution_count": 42,
     "metadata": {},
     "output_type": "execute_result"
    }
   ],
   "source": [
    "accuracy_score(y_test,y_predict)"
   ]
  },
  {
   "cell_type": "code",
   "execution_count": 43,
   "metadata": {},
   "outputs": [],
   "source": [
    "# Thinkers vs. Feelers\n",
    "y = df['T-F'].values\n",
    "X_train,X_test,y_train,y_test = train_test_split(X,y,random_state=45)\n",
    "\n",
    "rf = RandomForestClassifier(n_estimators=200)\n",
    "rf = rf.fit(X_train, y_train)"
   ]
  },
  {
   "cell_type": "code",
   "execution_count": 44,
   "metadata": {},
   "outputs": [
    {
     "data": {
      "text/plain": [
       "0.6228676809589673"
      ]
     },
     "execution_count": 44,
     "metadata": {},
     "output_type": "execute_result"
    }
   ],
   "source": [
    "TF = rf.score(X_test, y_test)\n",
    "TF"
   ]
  },
  {
   "cell_type": "code",
   "execution_count": 45,
   "metadata": {},
   "outputs": [],
   "source": [
    "y_predict = rf.predict(X_test)"
   ]
  },
  {
   "cell_type": "code",
   "execution_count": 46,
   "metadata": {},
   "outputs": [
    {
     "data": {
      "text/plain": [
       "0.6228676809589673"
      ]
     },
     "execution_count": 46,
     "metadata": {},
     "output_type": "execute_result"
    }
   ],
   "source": [
    "accuracy_score(y_test,y_predict)"
   ]
  },
  {
   "cell_type": "code",
   "execution_count": 47,
   "metadata": {},
   "outputs": [],
   "source": [
    "# Judgers vs. Perceivers\n",
    "y = df['J-P'].values\n",
    "X_train,X_test,y_train,y_test = train_test_split(X,y,random_state=45)\n",
    "\n",
    "rf = RandomForestClassifier(n_estimators=200)\n",
    "rf = rf.fit(X_train, y_train)"
   ]
  },
  {
   "cell_type": "code",
   "execution_count": 48,
   "metadata": {},
   "outputs": [
    {
     "data": {
      "text/plain": [
       "0.5629322268326418"
      ]
     },
     "execution_count": 48,
     "metadata": {},
     "output_type": "execute_result"
    }
   ],
   "source": [
    "JP = rf.score(X_test, y_test)\n",
    "JP"
   ]
  },
  {
   "cell_type": "code",
   "execution_count": 49,
   "metadata": {},
   "outputs": [],
   "source": [
    "y_predict = rf.predict(X_test)"
   ]
  },
  {
   "cell_type": "code",
   "execution_count": 50,
   "metadata": {},
   "outputs": [
    {
     "data": {
      "text/plain": [
       "0.5629322268326418"
      ]
     },
     "execution_count": 50,
     "metadata": {},
     "output_type": "execute_result"
    }
   ],
   "source": [
    "accuracy_score(y_test,y_predict)"
   ]
  },
  {
   "cell_type": "code",
   "execution_count": 51,
   "metadata": {},
   "outputs": [],
   "source": [
    "# Overall\n",
    "y = df['type'].values\n",
    "X_train,X_test,y_train,y_test = train_test_split(X,y,random_state=45)\n",
    "\n",
    "rf = RandomForestClassifier(n_estimators=200)\n",
    "rf = rf.fit(X_train, y_train)"
   ]
  },
  {
   "cell_type": "code",
   "execution_count": 52,
   "metadata": {},
   "outputs": [
    {
     "data": {
      "text/plain": [
       "0.1987090825265099"
      ]
     },
     "execution_count": 52,
     "metadata": {},
     "output_type": "execute_result"
    }
   ],
   "source": [
    "overall = rf.score(X_test, y_test)\n",
    "overall"
   ]
  },
  {
   "cell_type": "code",
   "execution_count": 53,
   "metadata": {},
   "outputs": [],
   "source": [
    "y_predict = rf.predict(X_test)"
   ]
  },
  {
   "cell_type": "code",
   "execution_count": 54,
   "metadata": {},
   "outputs": [
    {
     "data": {
      "text/plain": [
       "0.1987090825265099"
      ]
     },
     "execution_count": 54,
     "metadata": {},
     "output_type": "execute_result"
    }
   ],
   "source": [
    "accuracy_score(y_test,y_predict)"
   ]
  },
  {
   "cell_type": "code",
   "execution_count": 55,
   "metadata": {},
   "outputs": [],
   "source": [
    "df.to_csv('Data/data1.csv', index=False)"
   ]
  },
  {
   "cell_type": "code",
   "execution_count": 2,
   "metadata": {},
   "outputs": [],
   "source": [
    "import numpy as np"
   ]
  },
  {
   "cell_type": "code",
   "execution_count": 3,
   "metadata": {},
   "outputs": [],
   "source": [
    "df2 = pd.DataFrame(np.array([['Random Forests', 0.7639465191332411, 0.859843245735362, 0.6228676809589673, 0.5629322268326418], ['KNN', 0.716589861751152, 0.8387096774193549, 0.532258064516129, 0.5184331797235023], ['SVM', 0.789, 0.856, 0.539, 0.592], ['Neural Network', 0.7722452878952026, 0.8607653379440308, 0.6445366740226746, 0.6076533198356628], ['Binomial Naive Bayes', 0.7597971415398801, 0.8570769940064545, 0.5606270170585523, 0.5993545412632549]]),\n",
    "                            columns=['model', 'Introvert/Extrovert Score','Intuitive/Sensing Score', 'Thinking/Feeling Score', 'Judging/Perceiving Score'])"
   ]
  },
  {
   "cell_type": "code",
   "execution_count": 4,
   "metadata": {},
   "outputs": [
    {
     "data": {
      "text/html": [
       "<div>\n",
       "<style scoped>\n",
       "    .dataframe tbody tr th:only-of-type {\n",
       "        vertical-align: middle;\n",
       "    }\n",
       "\n",
       "    .dataframe tbody tr th {\n",
       "        vertical-align: top;\n",
       "    }\n",
       "\n",
       "    .dataframe thead th {\n",
       "        text-align: right;\n",
       "    }\n",
       "</style>\n",
       "<table border=\"1\" class=\"dataframe\">\n",
       "  <thead>\n",
       "    <tr style=\"text-align: right;\">\n",
       "      <th></th>\n",
       "      <th>model</th>\n",
       "      <th>Introvert/Extrovert Score</th>\n",
       "      <th>Intuitive/Sensing Score</th>\n",
       "      <th>Thinking/Feeling Score</th>\n",
       "      <th>Judging/Perceiving Score</th>\n",
       "    </tr>\n",
       "  </thead>\n",
       "  <tbody>\n",
       "    <tr>\n",
       "      <td>0</td>\n",
       "      <td>Random Forests</td>\n",
       "      <td>0.7639465191332411</td>\n",
       "      <td>0.859843245735362</td>\n",
       "      <td>0.6228676809589673</td>\n",
       "      <td>0.5629322268326418</td>\n",
       "    </tr>\n",
       "    <tr>\n",
       "      <td>1</td>\n",
       "      <td>KNN</td>\n",
       "      <td>0.716589861751152</td>\n",
       "      <td>0.8387096774193549</td>\n",
       "      <td>0.532258064516129</td>\n",
       "      <td>0.5184331797235023</td>\n",
       "    </tr>\n",
       "    <tr>\n",
       "      <td>2</td>\n",
       "      <td>SVM</td>\n",
       "      <td>0.789</td>\n",
       "      <td>0.856</td>\n",
       "      <td>0.539</td>\n",
       "      <td>0.592</td>\n",
       "    </tr>\n",
       "    <tr>\n",
       "      <td>3</td>\n",
       "      <td>Neural Network</td>\n",
       "      <td>0.7722452878952026</td>\n",
       "      <td>0.8607653379440308</td>\n",
       "      <td>0.6445366740226746</td>\n",
       "      <td>0.6076533198356628</td>\n",
       "    </tr>\n",
       "    <tr>\n",
       "      <td>4</td>\n",
       "      <td>Binomial Naive Bayes</td>\n",
       "      <td>0.7597971415398801</td>\n",
       "      <td>0.8570769940064545</td>\n",
       "      <td>0.5606270170585523</td>\n",
       "      <td>0.5993545412632549</td>\n",
       "    </tr>\n",
       "  </tbody>\n",
       "</table>\n",
       "</div>"
      ],
      "text/plain": [
       "                  model Introvert/Extrovert Score Intuitive/Sensing Score  \\\n",
       "0        Random Forests        0.7639465191332411       0.859843245735362   \n",
       "1                   KNN         0.716589861751152      0.8387096774193549   \n",
       "2                   SVM                     0.789                   0.856   \n",
       "3        Neural Network        0.7722452878952026      0.8607653379440308   \n",
       "4  Binomial Naive Bayes        0.7597971415398801      0.8570769940064545   \n",
       "\n",
       "  Thinking/Feeling Score Judging/Perceiving Score  \n",
       "0     0.6228676809589673       0.5629322268326418  \n",
       "1      0.532258064516129       0.5184331797235023  \n",
       "2                  0.539                    0.592  \n",
       "3     0.6445366740226746       0.6076533198356628  \n",
       "4     0.5606270170585523       0.5993545412632549  "
      ]
     },
     "execution_count": 4,
     "metadata": {},
     "output_type": "execute_result"
    }
   ],
   "source": [
    "df2"
   ]
  },
  {
   "cell_type": "code",
   "execution_count": 5,
   "metadata": {},
   "outputs": [],
   "source": [
    "df2.to_csv('Data/scores.csv', index=False)"
   ]
  },
  {
   "cell_type": "code",
   "execution_count": null,
   "metadata": {},
   "outputs": [],
   "source": []
  }
 ],
 "metadata": {
  "kernelspec": {
   "display_name": "Python 3",
   "language": "python",
   "name": "python3"
  },
  "language_info": {
   "codemirror_mode": {
    "name": "ipython",
    "version": 3
   },
   "file_extension": ".py",
   "mimetype": "text/x-python",
   "name": "python",
   "nbconvert_exporter": "python",
   "pygments_lexer": "ipython3",
   "version": "3.7.4"
  }
 },
 "nbformat": 4,
 "nbformat_minor": 2
}
